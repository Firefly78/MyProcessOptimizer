{
 "cells": [
  {
   "cell_type": "markdown",
   "metadata": {},
   "source": [
    "# Latin hypercube sampling\n",
    "Sigurd Carlsen October 2019"
   ]
  },
  {
   "cell_type": "markdown",
   "metadata": {},
   "source": [
    "When doing baysian optimization we often want to reserve some of the early part of the optimization to pure exploration.\n",
    "By default the optimizer suggests purely random samples for the first n_initial_points (10 by default). The downside to this is that there is no guarentee that these samples are spread out evenly across all the dimensions.\n",
    "\n",
    "Introducing [Latin hypercube sampling](https://en.wikipedia.org/wiki/Latin_hypercube_sampling).\n",
    "\n",
    "This method takes advantage of the fact that we know beforehand how many random poits we want to sample. Then these points can be \"spread out\" in such a way that each dimension is explored."
   ]
  },
  {
   "cell_type": "code",
   "execution_count": 1,
   "metadata": {},
   "outputs": [],
   "source": [
    "from ProcessOptimizer import Optimizer\n",
    "from ProcessOptimizer import Space,Real, Integer\n",
    "import matplotlib.pyplot as plt\n",
    "import numpy as np\n",
    "np.random.seed(12)"
   ]
  },
  {
   "cell_type": "markdown",
   "metadata": {},
   "source": [
    "First we create a space object with two real dimensions. Both with valid values from 0 to 1"
   ]
  },
  {
   "cell_type": "code",
   "execution_count": 2,
   "metadata": {},
   "outputs": [
    {
     "data": {
      "text/plain": [
       "Space([Real(low=0, high=1, prior='uniform', transform='identity'),\n",
       "       Real(low=0, high=1, prior='uniform', transform='identity')])"
      ]
     },
     "execution_count": 2,
     "metadata": {},
     "output_type": "execute_result"
    }
   ],
   "source": [
    "SPACE = Space(\n",
    "[Real(0,1),Real(0,1)]\n",
    ")\n",
    "SPACE"
   ]
  },
  {
   "cell_type": "markdown",
   "metadata": {},
   "source": [
    "Lets initiate our optimizer with default settings. Notize that because we were \"unlucky\" with our random seed 6 of our 10 points have x-values ranging fom 1.9 to 3.6."
   ]
  },
  {
   "cell_type": "code",
   "execution_count": 3,
   "metadata": {},
   "outputs": [
    {
     "data": {
      "text/plain": [
       "array([[0.29889376, 0.35492981],\n",
       "       [0.7675294 , 0.5835407 ],\n",
       "       [0.5677335 , 0.04922972],\n",
       "       [0.10033715, 0.17867431],\n",
       "       [0.21527239, 0.78984223],\n",
       "       [0.25052643, 0.82747676],\n",
       "       [0.30877494, 0.67522207],\n",
       "       [0.35251785, 0.3424325 ],\n",
       "       [0.81396514, 0.60971408],\n",
       "       [0.1949291 , 0.91074599]])"
      ]
     },
     "execution_count": 3,
     "metadata": {},
     "output_type": "execute_result"
    }
   ],
   "source": [
    "opt = Optimizer(SPACE, \"GP\", n_initial_points = 10)\n",
    "samples = opt.ask(n_points = 10)\n",
    "samples = np.array(samples)\n",
    "samples"
   ]
  },
  {
   "cell_type": "code",
   "execution_count": 4,
   "metadata": {},
   "outputs": [
    {
     "data": {
      "image/png": "[encoded data removed]",
      "text/plain": [
       "<Figure size 432x288 with 1 Axes>"
      ]
     },
     "metadata": {
      "needs_background": "light"
     },
     "output_type": "display_data"
    }
   ],
   "source": [
    "plt.scatter(samples[:,0],samples[:,1])\n",
    "plt.xlabel(\"X\",fontsize=20)\n",
    "plt.ylabel(\"Y\",fontsize=20)\n",
    "plt.show()"
   ]
  },
  {
   "cell_type": "markdown",
   "metadata": {},
   "source": [
    "We can instead call our optimizer with `lhs` set to True. This ensure that for each dimension the values are forced to be uniformly distributed."
   ]
  },
  {
   "cell_type": "code",
   "execution_count": 5,
   "metadata": {
    "scrolled": true
   },
   "outputs": [
    {
     "data": {
      "image/png": "[encoded data removed]",
      "text/plain": [
       "<Figure size 432x288 with 1 Axes>"
      ]
     },
     "metadata": {
      "needs_background": "light"
     },
     "output_type": "display_data"
    }
   ],
   "source": [
    "np.random.seed(12) # Using the same random seed as previous\n",
    "opt = Optimizer(SPACE, \"GP\", n_initial_points = 10,lhs= True)\n",
    "samples = opt.ask(n_points = 10)\n",
    "samples = np.array(samples)\n",
    "plt.scatter(samples[:,0],samples[:,1])\n",
    "plt.xlabel(\"X\",fontsize=20)\n",
    "plt.ylabel(\"Y\",fontsize=20)\n",
    "plt.show()"
   ]
  },
  {
   "cell_type": "markdown",
   "metadata": {},
   "source": [
    "One can also get latin hypercube sampled points by calling space directly:"
   ]
  },
  {
   "cell_type": "code",
   "execution_count": 6,
   "metadata": {},
   "outputs": [
    {
     "data": {
      "text/plain": [
       "[[0.875, 0.875], [0.125, 0.375], [0.625, 0.625], [0.375, 0.125]]"
      ]
     },
     "execution_count": 6,
     "metadata": {},
     "output_type": "execute_result"
    }
   ],
   "source": [
    "n = 4 # numbre of points to sample\n",
    "SPACE.lhs(4)"
   ]
  },
  {
   "cell_type": "markdown",
   "metadata": {},
   "source": [
    "Latin hypercube sampling comes with the following limitations:\n",
    "- After the optimizer is initialized the sampling method for the first n_initial_points cannot be changed.\n",
    "- Constraints cannot be applied while the n_initial_points of an optimizer with latin hypercube sampling have not been exhausted yet. The optimizer protects us from doing this. Example follows:"
   ]
  },
  {
   "cell_type": "code",
   "execution_count": 7,
   "metadata": {},
   "outputs": [
    {
     "name": "stdout",
     "output_type": "stream",
     "text": [
      "Can't set constraints while latin hypercube sampling points are not exhausted.\n"
     ]
    }
   ],
   "source": [
    "from ProcessOptimizer.space.constraints import Inclusive\n",
    "from ProcessOptimizer.space.constraints import Constraints\n",
    "try:\n",
    "    opt = Optimizer(SPACE, \"GP\", n_initial_points = 1,lhs= True)\n",
    "    opt.set_constraints([Inclusive(0, (0.1,0.5), 'real')])\n",
    "except RuntimeError as error:\n",
    "    print(error) # Print e\n",
    "else:\n",
    "    print(\"No error\")"
   ]
  },
  {
   "cell_type": "markdown",
   "metadata": {},
   "source": [
    "We exhaust the initial points and now constraints can be set:"
   ]
  },
  {
   "cell_type": "code",
   "execution_count": 8,
   "metadata": {},
   "outputs": [
    {
     "name": "stdout",
     "output_type": "stream",
     "text": [
      "No error\n"
     ]
    }
   ],
   "source": [
    "res = opt.tell([0,0],0)\n",
    "try:\n",
    "    opt.set_constraints([Inclusive(0, (0.1,0.5), 'real')])\n",
    "except RuntimeError as error:\n",
    "    print(error)\n",
    "else:\n",
    "    print(\"No error\")"
   ]
  },
  {
   "cell_type": "markdown",
   "metadata": {},
   "source": [
    "Example with integer dimension:"
   ]
  },
  {
   "cell_type": "code",
   "execution_count": 9,
   "metadata": {},
   "outputs": [
    {
     "data": {
      "image/png": "[encoded data removed]",
      "text/plain": [
       "<Figure size 432x288 with 1 Axes>"
      ]
     },
     "metadata": {
      "needs_background": "light"
     },
     "output_type": "display_data"
    }
   ],
   "source": [
    "SPACE = Space(\n",
    "[Integer(0,2),Real(0,1)]\n",
    ")\n",
    "np.random.seed(12) # Using the same random seed as previous\n",
    "opt = Optimizer(SPACE, \"GP\", n_initial_points = 10,lhs= True)\n",
    "samples = opt.ask(n_points = 10)\n",
    "samples = np.array(samples)\n",
    "plt.scatter(samples[:,0],samples[:,1])\n",
    "plt.xlabel(\"X\",fontsize=20)\n",
    "plt.ylabel(\"Y\",fontsize=20)\n",
    "plt.show()"
   ]
  }
 ],
 "metadata": {
  "kernelspec": {
   "display_name": "Python 3",
   "language": "python",
   "name": "python3"
  },
  "language_info": {
   "codemirror_mode": {
    "name": "ipython",
    "version": 3
   },
   "file_extension": ".py",
   "mimetype": "text/x-python",
   "name": "python",
   "nbconvert_exporter": "python",
   "pygments_lexer": "ipython3",
   "version": "3.9.4"
  }
 },
 "nbformat": 4,
 "nbformat_minor": 2
}
