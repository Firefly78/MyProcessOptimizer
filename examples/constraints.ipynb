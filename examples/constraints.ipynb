{
 "cells": [
  {
   "cell_type": "markdown",
   "metadata": {},
   "source": [
    "# Using constraints in optimization loop\n",
    "\n",
    "Sigurd Carlsen, June 2019."
   ]
  },
  {
   "cell_type": "markdown",
   "metadata": {},
   "source": [
    "In real world experiments it is not always possible to maintain the same space as was specified when the experiment was created. For example one could run out of a certain material for the experiment.\n",
    "\n",
    "In these cases constraints come in handy. Instead of redefining our space we just implement constraints on the parameter values that can be used in the experiment. These constraints can be removed or changed as the exeriment changes.\n",
    "\n",
    "So far we have 5 types of constraints: Single, Inclusive, Exclusive, Sum and Conditional.\n",
    "\n",
    "- \"Single\" constraints enforces a specific dimension to take on a specific value.\n",
    "Example: $x = 2.0$\n",
    "- \"Inclusive\" constraints forces values to only be the ones included in the constraint.\n",
    "Example: $x ∈ [2.0, 3.0]$\n",
    "- \"Exclusive\" constraints forces values to only be the ones excluded in the constraint.\n",
    "Example: $x ∉ [2.0, 3.0]$\n",
    "- \"Sum\" constraints forces the sum of values of a specific dimension to either be greater than or equal to or less than or equal to a certain value.\n",
    "For example: $x0 + x1 + x2 < 4$\n",
    "- \"Conditional\" constraints is a set of constraints that should only be applied under certain conditions.\n",
    "For example: if $x0 > 2$ then $x1 = 10$ else $x1 = 0$"
   ]
  },
  {
   "cell_type": "markdown",
   "metadata": {},
   "source": [
    "This notebook is an example on how to use these constraints.\n",
    "Note that constraints can only be used in the optimizer in conjunction with ask() and tell()\n",
    "\n",
    "Let's start by importing our packages:"
   ]
  },
  {
   "cell_type": "code",
   "execution_count": 1,
   "metadata": {},
   "outputs": [],
   "source": [
    "from ProcessOptimizer.learning import GaussianProcessRegressor\n",
    "from ProcessOptimizer import Optimizer\n",
    "from ProcessOptimizer import Integer, Categorical, Real, Space\n",
    "import numpy as np\n",
    "import time\n",
    "np.random.seed(1234)"
   ]
  },
  {
   "cell_type": "code",
   "execution_count": 2,
   "metadata": {},
   "outputs": [],
   "source": [
    "from ProcessOptimizer.space.constraints import Single, Inclusive, Exclusive, Sum, Conditional\n",
    "from ProcessOptimizer.space.constraints import Constraints"
   ]
  },
  {
   "cell_type": "markdown",
   "metadata": {},
   "source": [
    "Notes about the constraint classes. The `Single`, `Inclusive`, `Exclusive`, `Sum` and `Conditional` classes are all specific types of constraints, in the same way that `Integer`, `Categorical` and `Real` are specific types of dimensions.\n",
    "\n",
    "The `Constraints` class is a class that holds all the constraints in the same way that the `Space` class holds all the dimensions.\n",
    "\n",
    "Let us define our space:"
   ]
  },
  {
   "cell_type": "code",
   "execution_count": 3,
   "metadata": {},
   "outputs": [],
   "source": [
    "space = [\n",
    "        Real(1, 4),\n",
    "        Integer(1, 4),\n",
    "        Categorical(list('abcd')),\n",
    "    ]"
   ]
  },
  {
   "cell_type": "markdown",
   "metadata": {},
   "source": [
    "We initialize our optimizer and asks for 5 samples."
   ]
  },
  {
   "cell_type": "code",
   "execution_count": 4,
   "metadata": {},
   "outputs": [
    {
     "name": "stdout",
     "output_type": "stream",
     "text": [
      "[[2.2343118064815393, 4, 'a'], [3.5060862359092537, 3, 'd'], [2.1765381816450544, 3, 'd'], [1.6200909740185605, 2, 'a'], [2.8338292820563438, 3, 'b']]\n"
     ]
    }
   ],
   "source": [
    "opt = Optimizer(space, \"GP\")\n",
    "next_x = opt.ask(n_points = 5)\n",
    "print(next_x)"
   ]
  },
  {
   "cell_type": "markdown",
   "metadata": {},
   "source": [
    "After the optimizer has been initialized we can add constraints to it.\n",
    "This is done by first creating a list of all constraints we want to pass on to the optimizer.\n",
    "Let us start out simple by creating a list with only one constraint.\n",
    "First we try the \"Single\" type constraint."
   ]
  },
  {
   "cell_type": "code",
   "execution_count": 5,
   "metadata": {},
   "outputs": [],
   "source": [
    "constraints_list = [\n",
    "    Single(0, 2.0, 'real')\n",
    "]"
   ]
  },
  {
   "cell_type": "markdown",
   "metadata": {},
   "source": [
    "The first argument to \"Single\" is the index of the dimension for which the constraint should be applied.\n",
    "The second argument is the value of the constraint, and the third argument is the type of dimension.\n",
    "\n",
    "Here we have created a constraint on dimension 0. The type of dimension is set to 'real' as the type of dimension 0 in our space object is of type Real. Because the dimension is of type 'real' the value should be a float which is why it is set to \"2.0\" and not \"2\"\n",
    "\n",
    "Now we add the constraints to the optimizer and asks for 5 samples to evaluate.\n",
    "Note that adding constraints should always be done by calling set_constraints() to ensure that the optimizer internally handles new constraints correctly. "
   ]
  },
  {
   "cell_type": "code",
   "execution_count": 6,
   "metadata": {},
   "outputs": [],
   "source": [
    "opt.set_constraints(constraints_list)"
   ]
  },
  {
   "cell_type": "markdown",
   "metadata": {},
   "source": [
    "We can get the constraints by calling opt.get_constraints()"
   ]
  },
  {
   "cell_type": "code",
   "execution_count": 7,
   "metadata": {},
   "outputs": [
    {
     "data": {
      "text/plain": [
       "Constraints([Single(dimension=0, value=2.0, dimension_type=real)])"
      ]
     },
     "execution_count": 7,
     "metadata": {},
     "output_type": "execute_result"
    }
   ],
   "source": [
    "opt.get_constraints()"
   ]
  },
  {
   "cell_type": "code",
   "execution_count": 8,
   "metadata": {},
   "outputs": [
    {
     "name": "stdout",
     "output_type": "stream",
     "text": [
      "[[2.0, 3, 'c'], [2.0, 3, 'd'], [2.0, 1, 'a'], [2.0, 3, 'a'], [2.0, 1, 'a']]\n"
     ]
    }
   ],
   "source": [
    "next_x = opt.ask(n_points = 5)\n",
    "print(next_x)"
   ]
  },
  {
   "cell_type": "markdown",
   "metadata": {},
   "source": [
    "Note how all of the samples satisfies the constraint: Dimension 0 is alawys 2.0\n",
    "\n",
    "We can remove the constraints again simply by calling remove_constraints()."
   ]
  },
  {
   "cell_type": "code",
   "execution_count": 9,
   "metadata": {},
   "outputs": [
    {
     "name": "stdout",
     "output_type": "stream",
     "text": [
      "[[3.6039085869467122, 2, 'b'], [2.1367445745380658, 1, 'a'], [2.8681693339273946, 1, 'd'], [2.362511314366296, 2, 'c'], [2.028521409840995, 4, 'a']]\n"
     ]
    }
   ],
   "source": [
    "opt.remove_constraints()\n",
    "next_x = opt.ask(n_points = 5)\n",
    "print(next_x)"
   ]
  },
  {
   "cell_type": "markdown",
   "metadata": {},
   "source": [
    "Now let us try with two different Inclusive constraints"
   ]
  },
  {
   "cell_type": "code",
   "execution_count": 10,
   "metadata": {},
   "outputs": [],
   "source": [
    "constraints_list = [\n",
    "    Inclusive(1, (2, 3), 'integer'),\n",
    "    Inclusive(2, ('b', 'c'), 'categorical')  \n",
    "]"
   ]
  },
  {
   "cell_type": "markdown",
   "metadata": {},
   "source": [
    "Note how we change the dimension_type arguments to 'integer' and 'categorical' to correspond to the \"Real\" and \"Categorical\" dimension types of dimension 1 and 2.\n",
    "The second argument of Inclusive constraints should be a tuple of length 2 for 'integer' and 'real' dimensions. This tuple defines the lower and upper bound of the constraint.\n",
    "For categorical dimensions the constraint is handled a little bit differently, as upper and lower bounds does not make sense in categorical dimensions. This means that for categorical dimensions the second argument can be a tuple with a lenght of more than than 2, and that any values in this tuple, will be the only values that can be sampled for the given dimension."
   ]
  },
  {
   "cell_type": "code",
   "execution_count": 11,
   "metadata": {},
   "outputs": [
    {
     "name": "stdout",
     "output_type": "stream",
     "text": [
      "[[1.8721856597656277, 2, 'c'], [2.181347056881595, 2, 'c'], [3.371866307783935, 2, 'b'], [2.6443587177454155, 2, 'b'], [1.9837362525955056, 3, 'c']]\n"
     ]
    }
   ],
   "source": [
    "opt.set_constraints(constraints_list)\n",
    "next_x = opt.ask(n_points = 5)\n",
    "print(next_x)"
   ]
  },
  {
   "cell_type": "markdown",
   "metadata": {},
   "source": [
    "Now only values between and including 2 and 3 are drawn for dimension 1 and only categorical values of 'b' or 'c' are drawn for dimension 2.\n",
    "Note that calling set_constraints always overwrites all existing constraints in the optimizer"
   ]
  },
  {
   "cell_type": "markdown",
   "metadata": {},
   "source": [
    "Exlusive constraints are called the same way as Inclusive constraints but instead of enforcing that values drawn lie inside the bounds of the constraints, the values are instead forced to be outside of the bounds of the constraints."
   ]
  },
  {
   "cell_type": "code",
   "execution_count": 12,
   "metadata": {},
   "outputs": [],
   "source": [
    "constraints_list = [\n",
    "    Exclusive(1, (2, 3), 'integer'),\n",
    "    Exclusive(2, ('b', 'c'), 'categorical')  \n",
    "]"
   ]
  },
  {
   "cell_type": "code",
   "execution_count": 13,
   "metadata": {},
   "outputs": [
    {
     "name": "stdout",
     "output_type": "stream",
     "text": [
      "[[3.946014224565864, 1, 'a'], [2.673282485282349, 4, 'a'], [2.373434946692283, 4, 'd'], [2.9726553314734585, 1, 'a'], [2.704874213977322, 1, 'd']]\n"
     ]
    }
   ],
   "source": [
    "opt.set_constraints(constraints_list)\n",
    "next_x = opt.ask(n_points = 5)\n",
    "print(next_x)"
   ]
  },
  {
   "cell_type": "markdown",
   "metadata": {},
   "source": [
    "Note how values of 'b' and 'c' are now illegal."
   ]
  },
  {
   "cell_type": "markdown",
   "metadata": {},
   "source": [
    "We can use multiple constraints on the same dimension as long as they do not conflict with eachother. For example it is not possible to put two different \"Single\" constraints on the same dimension.\n",
    "\n",
    "Here we want values between 1.5 and 2.0 and values between 3.0 and 3.5 to be excluded:"
   ]
  },
  {
   "cell_type": "code",
   "execution_count": 14,
   "metadata": {},
   "outputs": [
    {
     "name": "stdout",
     "output_type": "stream",
     "text": [
      "[[2.6976957818171687, 3, 'c'], [2.1056730463004563, 4, 'a'], [3.549790083014442, 4, 'b'], [2.0174059046497073, 2, 'b'], [2.9563165016091553, 4, 'c']]\n"
     ]
    }
   ],
   "source": [
    "constraints_list = [\n",
    "    Exclusive(0, (1.5, 2.0), 'real'),\n",
    "    Exclusive(0,( 3.0, 3.5), 'real')\n",
    "]\n",
    "opt.set_constraints(constraints_list)\n",
    "next_x = opt.ask(n_points = 5)\n",
    "print(next_x)"
   ]
  },
  {
   "cell_type": "code",
   "execution_count": null,
   "metadata": {},
   "outputs": [],
   "source": []
  },
  {
   "cell_type": "markdown",
   "metadata": {},
   "source": [
    "The same can be done with Inclusive constraints"
   ]
  },
  {
   "cell_type": "code",
   "execution_count": 15,
   "metadata": {},
   "outputs": [
    {
     "name": "stdout",
     "output_type": "stream",
     "text": [
      "[[2.0968572621015573, 3, 'd'], [1.093104583399998, 2, 'c'], [2.0049879066757823, 1, 'd'], [1.037220945183141, 4, 'd'], [2.0552404647627665, 3, 'b']]\n"
     ]
    }
   ],
   "source": [
    "constraints_list = [\n",
    "    Inclusive(0, (1.0, 1.1), 'real'),\n",
    "    Inclusive(0, (2.0, 2.1), 'real'),\n",
    "    Inclusive(0, (3.0, 3.1), 'real')\n",
    "]\n",
    "opt.set_constraints(constraints_list)\n",
    "next_x = opt.ask(n_points = 5)\n",
    "print(next_x)"
   ]
  },
  {
   "cell_type": "markdown",
   "metadata": {},
   "source": [
    "We can even mix Inclusive and Exclusive constraints for the same dimension"
   ]
  },
  {
   "cell_type": "code",
   "execution_count": 16,
   "metadata": {},
   "outputs": [
    {
     "name": "stdout",
     "output_type": "stream",
     "text": [
      "[[2.2815152018868297, 3, 'b'], [2.1624746189422055, 2, 'c'], [2.7240287944217485, 2, 'b'], [2.8130063240803054, 2, 'd'], [2.8202279743247756, 2, 'b']]\n"
     ]
    }
   ],
   "source": [
    "constraints_list = [\n",
    "    Inclusive(0, (2.0, 3.0), 'real'),\n",
    "    Exclusive(0, (2.3, 2.7), 'real')\n",
    "]\n",
    "opt.set_constraints(constraints_list)\n",
    "next_x = opt.ask(n_points = 5)\n",
    "print(next_x)"
   ]
  },
  {
   "cell_type": "markdown",
   "metadata": {},
   "source": [
    "Whatch out for creating invalid constraint combinations. For example: `Inclusive(0,(2.0,3.0),'real')` and `Exclusive(0,(1.5,3.5),'real')` leaves no valid values to be sampled."
   ]
  },
  {
   "cell_type": "markdown",
   "metadata": {},
   "source": [
    "## Using the rvs method\n",
    "So far we have been using the `opt.ask()` method for drawing samples. We do this to showcase that the constraints are part of the optimizer. However the `opt.ask()` method is inherently very slow when asking for more than a handfull of samples. Therefore if we want to test the constraints we should use the Constraints class instead. This is the class that are being called internally when adding constraints to the optimizer.\n",
    "The initialitation of a Constraints object requires two arguments: constraints_list and space.\n",
    "The space argument can either be a list of dimensions or a Space object:"
   ]
  },
  {
   "cell_type": "code",
   "execution_count": 17,
   "metadata": {},
   "outputs": [],
   "source": [
    "# This works\n",
    "constraints = Constraints(constraints_list,space)"
   ]
  },
  {
   "cell_type": "code",
   "execution_count": 18,
   "metadata": {},
   "outputs": [],
   "source": [
    "# This also works\n",
    "space_object = Space(space)\n",
    "constraints = Constraints(constraints_list,space_object)"
   ]
  },
  {
   "cell_type": "code",
   "execution_count": 19,
   "metadata": {},
   "outputs": [
    {
     "data": {
      "text/plain": [
       "[[2.233698630357855, 1, 'd'],\n",
       " [2.911484671439348, 3, 'c'],\n",
       " [2.876265731487022, 4, 'a'],\n",
       " [2.094607904691135, 3, 'b'],\n",
       " [2.0527363421746516, 2, 'b'],\n",
       " [2.715183765325116, 1, 'c'],\n",
       " [2.783006175879051, 4, 'c'],\n",
       " [2.197260366051837, 3, 'a'],\n",
       " [2.0952784143703926, 2, 'c'],\n",
       " [2.8214030333511184, 3, 'a']]"
      ]
     },
     "execution_count": 19,
     "metadata": {},
     "output_type": "execute_result"
    }
   ],
   "source": [
    "constraints.rvs(n_samples = 10)"
   ]
  },
  {
   "cell_type": "markdown",
   "metadata": {},
   "source": [
    "We can also test if a sample that we are interested in lives up to the constraints"
   ]
  },
  {
   "cell_type": "code",
   "execution_count": 20,
   "metadata": {},
   "outputs": [],
   "source": [
    "sample_valid = [2.1, 2, 'b']\n",
    "sample_not_valid = [1, 2, 'b']"
   ]
  },
  {
   "cell_type": "code",
   "execution_count": 21,
   "metadata": {},
   "outputs": [
    {
     "data": {
      "text/plain": [
       "True"
      ]
     },
     "execution_count": 21,
     "metadata": {},
     "output_type": "execute_result"
    }
   ],
   "source": [
    "constraints.validate_sample(sample_valid)"
   ]
  },
  {
   "cell_type": "code",
   "execution_count": 22,
   "metadata": {},
   "outputs": [
    {
     "data": {
      "text/plain": [
       "False"
      ]
     },
     "execution_count": 22,
     "metadata": {},
     "output_type": "execute_result"
    }
   ],
   "source": [
    "constraints.validate_sample(sample_not_valid)"
   ]
  },
  {
   "cell_type": "markdown",
   "metadata": {},
   "source": [
    "## Sum constraints\n",
    "\"Sum\" is a type of constraints where the sum of specified dimensions should be either less or more than a certain value. Sum constraints only work for non-categorical dimensions.\n",
    "For example if we want to write a constraint like: x0 + x1 < 3:"
   ]
  },
  {
   "cell_type": "code",
   "execution_count": 23,
   "metadata": {},
   "outputs": [],
   "source": [
    "cons = Sum((0,1),3)"
   ]
  },
  {
   "cell_type": "markdown",
   "metadata": {},
   "source": [
    "Here the first argument which is a tuple defines the dimensions which should be included in the sum. In this case dimension 0 and 1. The second argument defines the max value of this sum. In this case 3."
   ]
  },
  {
   "cell_type": "code",
   "execution_count": 24,
   "metadata": {},
   "outputs": [
    {
     "name": "stdout",
     "output_type": "stream",
     "text": [
      "[[1.1343067474153847, 1, 'b'], [1.421711938375049, 1, 'a'], [1.70963763977009, 1, 'b'], [1.3825687019633712, 1, 'c'], [1.9204913411056788, 1, 'b']]\n"
     ]
    }
   ],
   "source": [
    "opt.set_constraints([cons])\n",
    "next_x = opt.ask(n_points = 5)\n",
    "print(next_x)"
   ]
  },
  {
   "cell_type": "markdown",
   "metadata": {},
   "source": [
    "If we want the sum to always be larger than a certain value we pass an optional parameter \"less_than\". If less_than is True the sums should be less than or equal to the value given in constraint. If less_than equals False the sum should be larger than or equal the given parameter:"
   ]
  },
  {
   "cell_type": "code",
   "execution_count": 25,
   "metadata": {},
   "outputs": [
    {
     "name": "stdout",
     "output_type": "stream",
     "text": [
      "[[2.9097449117167056, 3, 'b'], [2.9154486050690873, 3, 'd'], [3.3709296714906563, 3, 'a'], [3.4277372366794823, 2, 'c'], [1.3831158856909544, 4, 'a']]\n"
     ]
    }
   ],
   "source": [
    "constraint = Sum((0,1),4, less_than = False)\n",
    "opt.set_constraints([constraint])\n",
    "next_x = opt.ask(n_points = 5)\n",
    "print(next_x)"
   ]
  },
  {
   "cell_type": "markdown",
   "metadata": {},
   "source": [
    "## Conditional constraints\n",
    "\"Conditional\" constraints is a way of applying constraints under certain conditions. The \"Conditional\" class takes 3 arguments where the last two are optional: (condition, if_true, if_false).\n",
    "The first argument should be a constraint. The second two arguments should be a constraint or a list/tuple of constraints.\n",
    "The way this works is as follows: If the constraint from \"condition\" i satisfied then the constraints from \"if_true\" is applied. If not the constraint from \"if_false\" is applied instead. if_true and if_false are both optional arguments. If no if_true constraint is passed to the function and the condition is satisfied no constraint will be applied. The same goes for the if_false constraint.\n",
    "\n",
    "Lets say we want to make the following conditional constraint: If x0 is less than or equal to 2.5 then x2 should be 'a'. Else, x2 should be 'b'.\n",
    "\n",
    "First we start out be creating the condition. The condition should be a constraint that will evaluate to true if x0 < 2.5 and false otherwise. For this we can use the \"Inlcusive\" constraint."
   ]
  },
  {
   "cell_type": "code",
   "execution_count": 26,
   "metadata": {},
   "outputs": [],
   "source": [
    "condition = Inclusive(0,(1.0,2.5),'real')"
   ]
  },
  {
   "cell_type": "markdown",
   "metadata": {},
   "source": [
    "If the condition evaluates to true we want x2 to be equal to 'a' and if it evaluates to false we want x2 to be equal to 'b'. This corresponds to two \"Single\" constraints:"
   ]
  },
  {
   "cell_type": "code",
   "execution_count": 27,
   "metadata": {},
   "outputs": [],
   "source": [
    "if_true = Single(2,('a'),'categorical')\n",
    "if_false = Single(2,('b'),'categorical')"
   ]
  },
  {
   "cell_type": "markdown",
   "metadata": {},
   "source": [
    "Now we put it all together:"
   ]
  },
  {
   "cell_type": "code",
   "execution_count": 28,
   "metadata": {},
   "outputs": [
    {
     "name": "stdout",
     "output_type": "stream",
     "text": [
      "[[3.5430877873925217, 3, 'b'], [1.705129678427533, 3, 'a'], [2.1401543624099753, 2, 'a'], [2.5550651664243604, 2, 'b'], [3.645316683325362, 3, 'b']]\n"
     ]
    }
   ],
   "source": [
    "constraint_0 = Conditional(condition,if_true = if_true, if_false = if_false)\n",
    "opt.set_constraints([constraint_0])\n",
    "next_x = opt.ask(n_points = 5)\n",
    "print(next_x)"
   ]
  },
  {
   "cell_type": "markdown",
   "metadata": {},
   "source": [
    "We can also pass a tuple of constraints to the if_true or if_false arguments:"
   ]
  },
  {
   "cell_type": "code",
   "execution_count": 29,
   "metadata": {},
   "outputs": [
    {
     "name": "stdout",
     "output_type": "stream",
     "text": [
      "[[3.658850241695485, 3, 'b'], [3.5877243011879614, 2, 'b'], [3.5167327343478427, 2, 'b'], [3.627977389519116, 3, 'b'], [1.0806490770824209, 2, 'a']]\n"
     ]
    }
   ],
   "source": [
    "if_true = (Single(2,('a'),'categorical'),Single(1,2,'integer'))\n",
    "constraint_1 = Conditional(condition,if_true = if_true, if_false = if_false)\n",
    "opt.set_constraints([constraint_1])\n",
    "next_x = opt.ask(n_points = 5)\n",
    "print(next_x)"
   ]
  },
  {
   "cell_type": "markdown",
   "metadata": {},
   "source": [
    "This was a simple example but because the \"if_true\" and \"if_false\" arguments can be conditional constraints as well, we can make very complex constraints by nesting a conditional constraints inside eachother. Say for example that we only want the above conditional constraint to be applied if x1 is larger than 2. This can be achieved as follows:"
   ]
  },
  {
   "cell_type": "code",
   "execution_count": 30,
   "metadata": {},
   "outputs": [],
   "source": [
    "constraint_2 = Conditional(\n",
    "    Exclusive(1,(1,2),'integer'),\n",
    "    if_true =constraint_0,\n",
    ")"
   ]
  },
  {
   "cell_type": "markdown",
   "metadata": {},
   "source": [
    "Note how it is not nessecary to give both a \"if_true\" and \"if_false\" argument. For example in this case no constraint will be applied if the Exclusive constraint is not satisfied."
   ]
  },
  {
   "cell_type": "code",
   "execution_count": 31,
   "metadata": {},
   "outputs": [
    {
     "data": {
      "text/plain": [
       "True"
      ]
     },
     "execution_count": 31,
     "metadata": {},
     "output_type": "execute_result"
    }
   ],
   "source": [
    "constraint_2.validate_sample([1,3,'a'])"
   ]
  }
 ],
 "metadata": {
  "kernelspec": {
   "display_name": "Python 3",
   "language": "python",
   "name": "python3"
  },
  "language_info": {
   "codemirror_mode": {
    "name": "ipython",
    "version": 3
   },
   "file_extension": ".py",
   "mimetype": "text/x-python",
   "name": "python",
   "nbconvert_exporter": "python",
   "pygments_lexer": "ipython3",
   "version": "3.9.4"
  }
 },
 "nbformat": 4,
 "nbformat_minor": 4
}
