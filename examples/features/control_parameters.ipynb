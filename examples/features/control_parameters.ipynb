{
 "cells": [
  {
   "cell_type": "markdown",
   "metadata": {},
   "source": [
    "# Control parameters\n",
    "\n",
    "This notebook explains and demonstrates use of control parameters\n",
    "available in `ProcessOptimizer`.\n",
    "\n",
    "Control parameters are the independent variables that can be controlled in the optimization.\n",
    "Examples include the amount of an ingredient to add, how long time a certain certain\n",
    "process is performed, at what temperature, and on what equipment. Control parameters\n",
    "are contrasted by quality parameters, which are dependent variables measuring the outcome\n",
    "of the process.\n",
    "\n",
    "The complete set of parameters needed to define one experiment is a member of a \n",
    "search space of the class `Space`. A `Space` consists of a number of `Dimension`s.\n",
    "Each `Dimension` represents the possible values for one independent variable.\n",
    "Independent variables of types `Real`, `Integer` and `Categorical` are supported.\n",
    "\n",
    "`Dimension`s can be created directly or through the creation of a `Space`. `Space`s\n",
    "can either be initialized explicitly, or be created when initializing an `Optimizer`.\n",
    "\n",
    "You can sample from `Space`s in different ways, e.g. by random sampling with\n",
    "the method `Space.rvs`."
   ]
  },
  {
   "cell_type": "code",
   "execution_count": 4,
   "metadata": {},
   "outputs": [
    {
     "name": "stdout",
     "output_type": "stream",
     "text": [
      "Explicitly defined dimensions:\n",
      "Space([Real(low=1.0, high=10.0, prior='uniform', transform='identity'),\n",
      "       Integer(low=1, high=10),\n",
      "       Categorical(categories=('cat', 'dog', 'elephant'), prior=None)])\n",
      "\n",
      "Explicitly defined space:\n",
      "Space([Real(low=1.0, high=10.0, prior='uniform', transform='identity'),\n",
      "       Integer(low=1, high=10),\n",
      "       Categorical(categories=('cat', 'dog', 'elephant'), prior=None)])\n",
      "\n",
      "Implicitly defined space:\n",
      "Space([Real(low=1.0, high=10.0, prior='uniform', transform='normalize'),\n",
      "       Integer(low=1, high=10),\n",
      "       Categorical(categories=('cat', 'dog', 'elephant'), prior=None)])\n",
      "\n",
      "Space with a real, an integer, and a categorical dimension:\n",
      "Space([Real(low=1.0, high=10.0, prior='uniform', transform='identity'),\n",
      "       Integer(low=1, high=10),\n",
      "       Categorical(categories=('cat', 'dog', 'elephant'), prior=None)])\n",
      "\n",
      "Random sampling from the space:\n",
      "[[5.332108388353067, 10, 'elephant'], [5.72396259564824, 6, 'dog'], [8.713401204427948, 5, 'elephant'], [8.25750408114131, 7, 'elephant'], [3.4255910667354104, 7, 'cat']]\n"
     ]
    }
   ],
   "source": [
    "import ProcessOptimizer as po\n",
    "\n",
    "explicit_dimensions = po.Space(\n",
    "    dimensions=[\n",
    "        po.Real(1., 10.),\n",
    "        po.Integer(1, 10),\n",
    "        po.Categorical([\"cat\", \"dog\", \"elephant\"]),\n",
    "    ]\n",
    ")\n",
    "print(f\"Explicitly defined dimensions:\\n{explicit_dimensions}\\n\")\n",
    "\n",
    "space_definition = [[1., 10.], [1, 10], [\"cat\", \"dog\", \"elephant\"]]\n",
    "explicit_space = po.Space(space_definition)\n",
    "print(f\"Explicitly defined space:\\n{explicit_space}\\n\")\n",
    "\n",
    "opt = po.Optimizer(dimensions=space_definition)\n",
    "print(f\"Implicitly defined space:\\n{opt.space}\")\n",
    "\n",
    "random_samples = explicit_space.rvs(5)\n",
    "print(f\"\\nRandom sampling from the space:\\n{random_samples}\")\n"
   ]
  },
  {
   "cell_type": "markdown",
   "metadata": {},
   "source": [
    "## Real dimensions\n",
    "\n",
    "A `Real` dimension represents the variable as a real (floating point) number\n",
    "between an upper and a lower limit. It has a prior probability that is either\n",
    "uniform (default) or logarithmically uniform."
   ]
  },
  {
   "cell_type": "code",
   "execution_count": 5,
   "metadata": {},
   "outputs": [
    {
     "data": {
      "text/html": [
       "    <style>\n",
       "        .bk-notebook-logo {\n",
       "            display: block;\n",
       "            width: 20px;\n",
       "            height: 20px;\n",
       "            background-image: url(data:image/png;base64,iVBORw0KGgoAAAANSUhEUgAAABQAAAAUCAYAAACNiR0NAAAABHNCSVQICAgIfAhkiAAAAAlwSFlzAAALEgAACxIB0t1+/AAAABx0RVh0U29mdHdhcmUAQWRvYmUgRmlyZXdvcmtzIENTNui8sowAAAOkSURBVDiNjZRtaJVlGMd/1/08zzln5zjP1LWcU9N0NkN8m2CYjpgQYQXqSs0I84OLIC0hkEKoPtiH3gmKoiJDU7QpLgoLjLIQCpEsNJ1vqUOdO7ppbuec5+V+rj4ctwzd8IIbbi6u+8f1539dt3A78eXC7QizUF7gyV1fD1Yqg4JWz84yffhm0qkFqBogB9rM8tZdtwVsPUhWhGcFJngGeWrPzHm5oaMmkfEg1usvLFyc8jLRqDOMru7AyC8saQr7GG7f5fvDeH7Ej8CM66nIF+8yngt6HWaKh7k49Soy9nXurCi1o3qUbS3zWfrYeQDTB/Qj6kX6Ybhw4B+bOYoLKCC9H3Nu/leUTZ1JdRWkkn2ldcCamzrcf47KKXdAJllSlxAOkRgyHsGC/zRday5Qld9DyoM4/q/rUoy/CXh3jzOu3bHUVZeU+DEn8FInkPBFlu3+nW3Nw0mk6vCDiWg8CeJaxEwuHS3+z5RgY+YBR6V1Z1nxSOfoaPa4LASWxxdNp+VWTk7+4vzaou8v8PN+xo+KY2xsw6une2frhw05CTYOmQvsEhjhWjn0bmXPjpE1+kplmmkP3suftwTubK9Vq22qKmrBhpY4jvd5afdRA3wGjFAgcnTK2s4hY0/GPNIb0nErGMCRxWOOX64Z8RAC4oCXdklmEvcL8o0BfkNK4lUg9HTl+oPlQxdNo3Mg4Nv175e/1LDGzZen30MEjRUtmXSfiTVu1kK8W4txyV6BMKlbgk3lMwYCiusNy9fVfvvwMxv8Ynl6vxoByANLTWplvuj/nF9m2+PDtt1eiHPBr1oIfhCChQMBw6Aw0UulqTKZdfVvfG7VcfIqLG9bcldL/+pdWTLxLUy8Qq38heUIjh4XlzZxzQm19lLFlr8vdQ97rjZVOLf8nclzckbcD4wxXMidpX30sFd37Fv/GtwwhzhxGVAprjbg0gCAEeIgwCZyTV2Z1REEW8O4py0wsjeloKoMr6iCY6dP92H6Vw/oTyICIthibxjm/DfN9lVz8IqtqKYLUXfoKVMVQVVJOElGjrnnUt9T9wbgp8AyYKaGlqingHZU/uG2NTZSVqwHQTWkx9hxjkpWDaCg6Ckj5qebgBVbT3V3NNXMSiWSDdGV3hrtzla7J+duwPOToIg42ChPQOQjspnSlp1V+Gjdged7+8UN5CRAV7a5EdFNwCjEaBR27b3W890TE7g24NAP/mMDXRWrGoFPQI9ls/MWO2dWFAar/xcOIImbbpA3zgAAAABJRU5ErkJggg==);\n",
       "        }\n",
       "    </style>\n",
       "    <div>\n",
       "        <a href=\"https://bokeh.org\" target=\"_blank\" class=\"bk-notebook-logo\"></a>\n",
       "        <span id=\"d566d0b5-b2a6-414b-b861-47fa6d6c733d\">Loading BokehJS ...</span>\n",
       "    </div>\n"
      ]
     },
     "metadata": {},
     "output_type": "display_data"
    },
    {
     "data": {
      "application/javascript": "'use strict';\n(function(root) {\n  function now() {\n    return new Date();\n  }\n\n  const force = true;\n\n  if (typeof root._bokeh_onload_callbacks === \"undefined\" || force === true) {\n    root._bokeh_onload_callbacks = [];\n    root._bokeh_is_loading = undefined;\n  }\n\nconst JS_MIME_TYPE = 'application/javascript';\n  const HTML_MIME_TYPE = 'text/html';\n  const EXEC_MIME_TYPE = 'application/vnd.bokehjs_exec.v0+json';\n  const CLASS_NAME = 'output_bokeh rendered_html';\n\n  /**\n   * Render data to the DOM node\n   */\n  function render(props, node) {\n    const script = document.createElement(\"script\");\n    node.appendChild(script);\n  }\n\n  /**\n   * Handle when an output is cleared or removed\n   */\n  function handleClearOutput(event, handle) {\n    function drop(id) {\n      const view = Bokeh.index.get_by_id(id)\n      if (view != null) {\n        view.model.document.clear()\n        Bokeh.index.delete(view)\n      }\n    }\n\n    const cell = handle.cell;\n\n    const id = cell.output_area._bokeh_element_id;\n    const server_id = cell.output_area._bokeh_server_id;\n\n    // Clean up Bokeh references\n    if (id != null) {\n      drop(id)\n    }\n\n    if (server_id !== undefined) {\n      // Clean up Bokeh references\n      const cmd_clean = \"from bokeh.io.state import curstate; print(curstate().uuid_to_server['\" + server_id + \"'].get_sessions()[0].document.roots[0]._id)\";\n      cell.notebook.kernel.execute(cmd_clean, {\n        iopub: {\n          output: function(msg) {\n            const id = msg.content.text.trim()\n            drop(id)\n          }\n        }\n      });\n      // Destroy server and session\n      const cmd_destroy = \"import bokeh.io.notebook as ion; ion.destroy_server('\" + server_id + \"')\";\n      cell.notebook.kernel.execute(cmd_destroy);\n    }\n  }\n\n  /**\n   * Handle when a new output is added\n   */\n  function handleAddOutput(event, handle) {\n    const output_area = handle.output_area;\n    const output = handle.output;\n\n    // limit handleAddOutput to display_data with EXEC_MIME_TYPE content only\n    if ((output.output_type != \"display_data\") || (!Object.prototype.hasOwnProperty.call(output.data, EXEC_MIME_TYPE))) {\n      return\n    }\n\n    const toinsert = output_area.element.find(\".\" + CLASS_NAME.split(' ')[0]);\n\n    if (output.metadata[EXEC_MIME_TYPE][\"id\"] !== undefined) {\n      toinsert[toinsert.length - 1].firstChild.textContent = output.data[JS_MIME_TYPE];\n      // store reference to embed id on output_area\n      output_area._bokeh_element_id = output.metadata[EXEC_MIME_TYPE][\"id\"];\n    }\n    if (output.metadata[EXEC_MIME_TYPE][\"server_id\"] !== undefined) {\n      const bk_div = document.createElement(\"div\");\n      bk_div.innerHTML = output.data[HTML_MIME_TYPE];\n      const script_attrs = bk_div.children[0].attributes;\n      for (let i = 0; i < script_attrs.length; i++) {\n        toinsert[toinsert.length - 1].firstChild.setAttribute(script_attrs[i].name, script_attrs[i].value);\n        toinsert[toinsert.length - 1].firstChild.textContent = bk_div.children[0].textContent\n      }\n      // store reference to server id on output_area\n      output_area._bokeh_server_id = output.metadata[EXEC_MIME_TYPE][\"server_id\"];\n    }\n  }\n\n  function register_renderer(events, OutputArea) {\n\n    function append_mime(data, metadata, element) {\n      // create a DOM node to render to\n      const toinsert = this.create_output_subarea(\n        metadata,\n        CLASS_NAME,\n        EXEC_MIME_TYPE\n      );\n      this.keyboard_manager.register_events(toinsert);\n      // Render to node\n      const props = {data: data, metadata: metadata[EXEC_MIME_TYPE]};\n      render(props, toinsert[toinsert.length - 1]);\n      element.append(toinsert);\n      return toinsert\n    }\n\n    /* Handle when an output is cleared or removed */\n    events.on('clear_output.CodeCell', handleClearOutput);\n    events.on('delete.Cell', handleClearOutput);\n\n    /* Handle when a new output is added */\n    events.on('output_added.OutputArea', handleAddOutput);\n\n    /**\n     * Register the mime type and append_mime function with output_area\n     */\n    OutputArea.prototype.register_mime_type(EXEC_MIME_TYPE, append_mime, {\n      /* Is output safe? */\n      safe: true,\n      /* Index of renderer in `output_area.display_order` */\n      index: 0\n    });\n  }\n\n  // register the mime type if in Jupyter Notebook environment and previously unregistered\n  if (root.Jupyter !== undefined) {\n    const events = require('base/js/events');\n    const OutputArea = require('notebook/js/outputarea').OutputArea;\n\n    if (OutputArea.prototype.mime_types().indexOf(EXEC_MIME_TYPE) == -1) {\n      register_renderer(events, OutputArea);\n    }\n  }\n  if (typeof (root._bokeh_timeout) === \"undefined\" || force === true) {\n    root._bokeh_timeout = Date.now() + 5000;\n    root._bokeh_failed_load = false;\n  }\n\n  const NB_LOAD_WARNING = {'data': {'text/html':\n     \"<div style='background-color: #fdd'>\\n\"+\n     \"<p>\\n\"+\n     \"BokehJS does not appear to have successfully loaded. If loading BokehJS from CDN, this \\n\"+\n     \"may be due to a slow or bad network connection. Possible fixes:\\n\"+\n     \"</p>\\n\"+\n     \"<ul>\\n\"+\n     \"<li>re-rerun `output_notebook()` to attempt to load from CDN again, or</li>\\n\"+\n     \"<li>use INLINE resources instead, as so:</li>\\n\"+\n     \"</ul>\\n\"+\n     \"<code>\\n\"+\n     \"from bokeh.resources import INLINE\\n\"+\n     \"output_notebook(resources=INLINE)\\n\"+\n     \"</code>\\n\"+\n     \"</div>\"}};\n\n  function display_loaded(error = null) {\n    const el = document.getElementById(\"d566d0b5-b2a6-414b-b861-47fa6d6c733d\");\n    if (el != null) {\n      const html = (() => {\n        if (typeof root.Bokeh === \"undefined\") {\n          if (error == null) {\n            return \"BokehJS is loading ...\";\n          } else {\n            return \"BokehJS failed to load.\";\n          }\n        } else {\n          const prefix = `BokehJS ${root.Bokeh.version}`;\n          if (error == null) {\n            return `${prefix} successfully loaded.`;\n          } else {\n            return `${prefix} <b>encountered errors</b> while loading and may not function as expected.`;\n          }\n        }\n      })();\n      el.innerHTML = html;\n\n      if (error != null) {\n        const wrapper = document.createElement(\"div\");\n        wrapper.style.overflow = \"auto\";\n        wrapper.style.height = \"5em\";\n        wrapper.style.resize = \"vertical\";\n        const content = document.createElement(\"div\");\n        content.style.fontFamily = \"monospace\";\n        content.style.whiteSpace = \"pre-wrap\";\n        content.style.backgroundColor = \"rgb(255, 221, 221)\";\n        content.textContent = error.stack ?? error.toString();\n        wrapper.append(content);\n        el.append(wrapper);\n      }\n    } else if (Date.now() < root._bokeh_timeout) {\n      setTimeout(() => display_loaded(error), 100);\n    }\n  }\n\n  function run_callbacks() {\n    try {\n      root._bokeh_onload_callbacks.forEach(function(callback) {\n        if (callback != null)\n          callback();\n      });\n    } finally {\n      delete root._bokeh_onload_callbacks\n    }\n    console.debug(\"Bokeh: all callbacks have finished\");\n  }\n\n  function load_libs(css_urls, js_urls, callback) {\n    if (css_urls == null) css_urls = [];\n    if (js_urls == null) js_urls = [];\n\n    root._bokeh_onload_callbacks.push(callback);\n    if (root._bokeh_is_loading > 0) {\n      console.debug(\"Bokeh: BokehJS is being loaded, scheduling callback at\", now());\n      return null;\n    }\n    if (js_urls == null || js_urls.length === 0) {\n      run_callbacks();\n      return null;\n    }\n    console.debug(\"Bokeh: BokehJS not loaded, scheduling load and callback at\", now());\n    root._bokeh_is_loading = css_urls.length + js_urls.length;\n\n    function on_load() {\n      root._bokeh_is_loading--;\n      if (root._bokeh_is_loading === 0) {\n        console.debug(\"Bokeh: all BokehJS libraries/stylesheets loaded\");\n        run_callbacks()\n      }\n    }\n\n    function on_error(url) {\n      console.error(\"failed to load \" + url);\n    }\n\n    for (let i = 0; i < css_urls.length; i++) {\n      const url = css_urls[i];\n      const element = document.createElement(\"link\");\n      element.onload = on_load;\n      element.onerror = on_error.bind(null, url);\n      element.rel = \"stylesheet\";\n      element.type = \"text/css\";\n      element.href = url;\n      console.debug(\"Bokeh: injecting link tag for BokehJS stylesheet: \", url);\n      document.body.appendChild(element);\n    }\n\n    for (let i = 0; i < js_urls.length; i++) {\n      const url = js_urls[i];\n      const element = document.createElement('script');\n      element.onload = on_load;\n      element.onerror = on_error.bind(null, url);\n      element.async = false;\n      element.src = url;\n      console.debug(\"Bokeh: injecting script tag for BokehJS library: \", url);\n      document.head.appendChild(element);\n    }\n  };\n\n  function inject_raw_css(css) {\n    const element = document.createElement(\"style\");\n    element.appendChild(document.createTextNode(css));\n    document.body.appendChild(element);\n  }\n\n  const js_urls = [\"https://cdn.bokeh.org/bokeh/release/bokeh-3.4.0.min.js\", \"https://cdn.bokeh.org/bokeh/release/bokeh-gl-3.4.0.min.js\", \"https://cdn.bokeh.org/bokeh/release/bokeh-widgets-3.4.0.min.js\", \"https://cdn.bokeh.org/bokeh/release/bokeh-tables-3.4.0.min.js\", \"https://cdn.bokeh.org/bokeh/release/bokeh-mathjax-3.4.0.min.js\"];\n  const css_urls = [];\n\n  const inline_js = [    function(Bokeh) {\n      Bokeh.set_log_level(\"info\");\n    },\nfunction(Bokeh) {\n    }\n  ];\n\n  function run_inline_js() {\n    if (root.Bokeh !== undefined || force === true) {\n      try {\n            for (let i = 0; i < inline_js.length; i++) {\n      inline_js[i].call(root, root.Bokeh);\n    }\n\n      } catch (error) {display_loaded(error);throw error;\n      }if (force === true) {\n        display_loaded();\n      }} else if (Date.now() < root._bokeh_timeout) {\n      setTimeout(run_inline_js, 100);\n    } else if (!root._bokeh_failed_load) {\n      console.log(\"Bokeh: BokehJS failed to load within specified timeout.\");\n      root._bokeh_failed_load = true;\n    } else if (force !== true) {\n      const cell = $(document.getElementById(\"d566d0b5-b2a6-414b-b861-47fa6d6c733d\")).parents('.cell').data().cell;\n      cell.output_area.append_execute_result(NB_LOAD_WARNING)\n    }\n  }\n\n  if (root._bokeh_is_loading === 0) {\n    console.debug(\"Bokeh: BokehJS loaded, going straight to plotting\");\n    run_inline_js();\n  } else {\n    load_libs(css_urls, js_urls, function() {\n      console.debug(\"Bokeh: BokehJS plotting callback run at\", now());\n      run_inline_js();\n    });\n  }\n}(window));",
      "application/vnd.bokehjs_load.v0+json": ""
     },
     "metadata": {},
     "output_type": "display_data"
    },
    {
     "name": "stdout",
     "output_type": "stream",
     "text": [
      "Space with one real dimension with uniform prior:\n",
      "Space([Real(low=1.0, high=11.0, prior='uniform', transform='identity')])\n",
      "Space one real dimension with log-uniform prior:\n",
      "Space([Real(low=1.0, high=11.0, prior='log-uniform', transform='identity')])\n",
      "\n",
      "Random samples with uniform prior:\n",
      "[[8.122780480403609], [6.689516679176107], [2.21385654367404], [2.472572452317565], [10.24939032261755]]\n",
      "Random samples with log-uniform prior:\n",
      "[[10.524198672774613], [3.5460906664398415], [2.6336681653420215], [7.022422322697348], [5.250336321168514]]\n",
      "\n",
      "LHS with uniform prior:\n",
      "[[10.0], [6.0], [8.0], [4.0], [2.0]]\n",
      "LHS with log-uniform prior:\n",
      "[[8.654727864164494], [3.3166247903554003], [5.357656669484114], [2.053136413658844], [1.2709816152101407]]\n"
     ]
    },
    {
     "data": {
      "text/html": [
       "\n",
       "  <div id=\"bfa62519-548b-4a9b-b8ac-55d2b1a4e0e7\" data-root-id=\"p1181\" style=\"display: contents;\"></div>\n"
      ]
     },
     "metadata": {},
     "output_type": "display_data"
    },
    {
     "data": {
      "application/javascript": "(function(root) {\n  function embed_document(root) {\n  const docs_json = {\"e35e97a6-6cc1-40c7-8000-a409a941ffd5\":{\"version\":\"3.4.0\",\"title\":\"Bokeh Application\",\"roots\":[{\"type\":\"object\",\"name\":\"Figure\",\"id\":\"p1181\",\"attributes\":{\"x_range\":{\"type\":\"object\",\"name\":\"DataRange1d\",\"id\":\"p1182\"},\"y_range\":{\"type\":\"object\",\"name\":\"DataRange1d\",\"id\":\"p1183\"},\"x_scale\":{\"type\":\"object\",\"name\":\"LinearScale\",\"id\":\"p1191\"},\"y_scale\":{\"type\":\"object\",\"name\":\"LinearScale\",\"id\":\"p1192\"},\"title\":{\"type\":\"object\",\"name\":\"Title\",\"id\":\"p1184\",\"attributes\":{\"text\":\"Histogram of 10 000 random samples with uniform prior\"}},\"renderers\":[{\"type\":\"object\",\"name\":\"GlyphRenderer\",\"id\":\"p1220\",\"attributes\":{\"data_source\":{\"type\":\"object\",\"name\":\"ColumnDataSource\",\"id\":\"p1214\",\"attributes\":{\"selected\":{\"type\":\"object\",\"name\":\"Selection\",\"id\":\"p1215\",\"attributes\":{\"indices\":[],\"line_indices\":[]}},\"selection_policy\":{\"type\":\"object\",\"name\":\"UnionRenderers\",\"id\":\"p1216\"},\"data\":{\"type\":\"map\",\"entries\":[[\"top\",{\"type\":\"ndarray\",\"array\":{\"type\":\"bytes\",\"data\":\"M1UwKqkTuD+Lzce1oWK8PxpW8Ubmkbc/mVEst7Qauj9/1lHVBFG3P0NMpgpGJb0/iFEst7Qauj9DTKYKRiW9P2DOiNLe4Ls/8layYyMQtz8c0oxF09m5P4LOiNLe4Ls/NNmUK7zLtT/yVrJjIxC3PzXaVUj5SbU/z9TPm4pUuD/BWDSdnQy2PwtW8Ubmkbc/3Fg0nZ0Mtj8V0csollu6P6lattYXCbU/H0ymCkYlvT/cWDSdnQy2P3nNx7WhYrw/ac9J7xtfuz/K0w5/Tda4P4LXEvJBz7Y/FdHLKJZbuj+C1xLyQc+2P3nNx7WhYrw/FdHLKJZbuj/u1M+bilS4P6XSTWIQWLk//k+qfToeuz8GTWcng6O8P5jVkLjH0rc/n9cS8kHPtj+IUSy3tBq6PxvaVUj5SbU//NGMRdPZuT+VU67wLhe5P4hRLLe0Gro/q8tFfCdmvT89VG8NbJW4P5tKJNHLKL4/FdHLKJZbuj+x1M+bilS4P4NIopdRLL8/ec3HtaFivD8sV7JjIxC3P7tPqn06Hrs/1E7pYP2fuz+IUSy3tBq6P0/aVUj5SbU/u0+qfToeuz9gzojS3uC7PxvaVUj5SbU/TU1nJ4OjvD89VG8NbJW4P6vLRXwnZr0/FdHLKJZbuj+Mz0nvG1+7PwtW8Ubmkbc/ytMOf03WuD/K0w5/Tda4P+PSTWIQWLk/F0/pYP2fuz/K0w5/Tda4Py7QCgxZ3bo/ZtcS8kHPtj8oysNCrWm+PwFUbw1slbg//k+qfToeuz/M3hrYKsGyP/5Pqn06Hrs/esqEX+rnvT/T0Msollu6P9PVkLjH0rc/7tTPm4pUuD8fSWO0jqq+P5VTrvAuF7k/hNjTDn9Ntj9fUGuad5y6P3HQCgxZ3bo/jNMOf03WuD/JUSy3tBq6P4zPSe8bX7s/X1Brmnecuj8i001iEFi5PyxXsmMjELc/p00oRMAhvD880oxF09m5PzBS7dPxmLk/n9cS8kHPtj9gVTAqqRO4PwTPSe8bX7s/9ctFfCdmvT+5VrJjIxC3P5/XEvJBz7Y/\"},\"shape\":[99],\"dtype\":\"float64\",\"order\":\"little\"}],[\"left\",{\"type\":\"ndarray\",\"array\":{\"type\":\"bytes\",\"data\":\"AAAAAAAA8D/zdobEvJ3xP+btDIl5O/M/2WSTTTbZ9D/M2xkS83b2P8BSoNavFPg/sskmm2yy+T+mQK1fKVD7P5i3MyTm7fw/jC666KKL/j/AUqDWrxQAQDmO4ziO4wBAsskmm2yyAUAsBWr9SoECQKZArV8pUANAH3zwwQcfBECYtzMk5u0EQBLzdobEvAVAjC666KKLBkAFav1KgVoHQH+lQK1fKQhA+OCDDz74CEByHMdxHMcJQOtXCtT6lQpAZZNNNtlkC0DezpCYtzMMQFgK1PqVAg1A0UUXXXTRDUBLgVq/UqAOQMS8nSExbw9AH3zwwQcfEEDcGRLzdoYQQJi3MyTm7RBAVlVVVVVVEUAS83aGxLwRQM+QmLczJBJAjC666KKLEkBIzNsZEvMSQAVq/UqBWhNAwgcffPDBE0B/pUCtXykUQDtDYt7OkBRA+OCDDz74FEC1fqVArV8VQHIcx3EcxxVALrrooosuFkDrVwrU+pUWQKj1KwVq/RZAZZNNNtlkF0AiMW9nSMwXQN7OkJi3MxhAm2yyySabGEBYCtT6lQIZQBWo9SsFahlA0UUXXXTRGUCO4ziO4zgaQEuBWr9SoBpACB988MEHG0DEvJ0hMW8bQIFav1Kg1htAPvjggw8+HED7lQK1fqUcQLczJObtDB1AdNFFF110HUAxb2dIzNsdQO4MiXk7Qx5Aq6qqqqqqHkBnSMzbGRIfQCTm7QyJeR9A4YMPPvjgH0DPkJi3MyQgQK1fKVDrVyBAjC666KKLIEBq/UqBWr8gQEjM2xkS8yBAJptssskmIUAFav1KgVohQOQ4juM4jiFAwgcffPDBIUCg1q8UqPUhQH+lQK1fKSJAXXTRRRddIkA7Q2LezpAiQBoS83aGxCJA+OCDDz74IkDXrxSo9SsjQLV+pUCtXyNAk0022WSTI0ByHMdxHMcjQFDrVwrU+iNALrrooosuJEANiXk7Q2IkQOtXCtT6lSRAyiabbLLJJECo9SsFav0kQIbEvJ0hMSVAZZNNNtlkJUBDYt7OkJglQCIxb2dIzCVA\"},\"shape\":[99],\"dtype\":\"float64\",\"order\":\"little\"}],[\"right\",{\"type\":\"ndarray\",\"array\":{\"type\":\"bytes\",\"data\":\"83aGxLyd8T/m7QyJeTvzP9lkk0022fQ/zNsZEvN29j/AUqDWrxT4P7LJJptssvk/pkCtXylQ+z+YtzMk5u38P4wuuuiii/4/wFKg1q8UAEA5juM4juMAQLLJJptssgFALAVq/UqBAkCmQK1fKVADQB988MEHHwRAmLczJObtBEAS83aGxLwFQIwuuuiiiwZABWr9SoFaB0B/pUCtXykIQPjggw8++AhAchzHcRzHCUDrVwrU+pUKQGWTTTbZZAtA3s6QmLczDEBYCtT6lQINQNFFF1100Q1AS4Fav1KgDkDEvJ0hMW8PQB988MEHHxBA3BkS83aGEECYtzMk5u0QQFZVVVVVVRFAEvN2hsS8EUDPkJi3MyQSQIwuuuiiixJASMzbGRLzEkAFav1KgVoTQMIHH3zwwRNAf6VArV8pFEA7Q2LezpAUQPjggw8++BRAtX6lQK1fFUByHMdxHMcVQC666KKLLhZA61cK1PqVFkCo9SsFav0WQGWTTTbZZBdAIjFvZ0jMF0DezpCYtzMYQJtssskmmxhAWArU+pUCGUAVqPUrBWoZQNFFF1100RlAjuM4juM4GkBLgVq/UqAaQAgffPDBBxtAxLydITFvG0CBWr9SoNYbQD744IMPPhxA+5UCtX6lHEC3MyTm7QwdQHTRRRdddB1AMW9nSMzbHUDuDIl5O0MeQKuqqqqqqh5AZ0jM2xkSH0Ak5u0MiXkfQOGDDz744B9Az5CYtzMkIECtXylQ61cgQIwuuuiiiyBAav1KgVq/IEBIzNsZEvMgQCabbLLJJiFABWr9SoFaIUDkOI7jOI4hQMIHH3zwwSFAoNavFKj1IUB/pUCtXykiQF100UUXXSJAO0Ni3s6QIkAaEvN2hsQiQPjggw8++CJA168UqPUrI0C1fqVArV8jQJNNNtlkkyNAchzHcRzHI0BQ61cK1PojQC666KKLLiRADYl5O0NiJEDrVwrU+pUkQMomm2yyySRAqPUrBWr9JECGxLydITElQGWTTTbZZCVAQ2LezpCYJUAiMW9nSMwlQAAAAAAAACZA\"},\"shape\":[99],\"dtype\":\"float64\",\"order\":\"little\"}]]}}},\"view\":{\"type\":\"object\",\"name\":\"CDSView\",\"id\":\"p1221\",\"attributes\":{\"filter\":{\"type\":\"object\",\"name\":\"AllIndices\",\"id\":\"p1222\"}}},\"glyph\":{\"type\":\"object\",\"name\":\"Quad\",\"id\":\"p1217\",\"attributes\":{\"left\":{\"type\":\"field\",\"field\":\"left\"},\"right\":{\"type\":\"field\",\"field\":\"right\"},\"bottom\":{\"type\":\"value\",\"value\":0},\"top\":{\"type\":\"field\",\"field\":\"top\"},\"line_color\":{\"type\":\"value\",\"value\":\"white\"},\"fill_color\":{\"type\":\"value\",\"value\":\"#1f77b4\"}}},\"nonselection_glyph\":{\"type\":\"object\",\"name\":\"Quad\",\"id\":\"p1218\",\"attributes\":{\"left\":{\"type\":\"field\",\"field\":\"left\"},\"right\":{\"type\":\"field\",\"field\":\"right\"},\"bottom\":{\"type\":\"value\",\"value\":0},\"top\":{\"type\":\"field\",\"field\":\"top\"},\"line_color\":{\"type\":\"value\",\"value\":\"white\"},\"line_alpha\":{\"type\":\"value\",\"value\":0.1},\"fill_color\":{\"type\":\"value\",\"value\":\"#1f77b4\"},\"fill_alpha\":{\"type\":\"value\",\"value\":0.1},\"hatch_alpha\":{\"type\":\"value\",\"value\":0.1}}},\"muted_glyph\":{\"type\":\"object\",\"name\":\"Quad\",\"id\":\"p1219\",\"attributes\":{\"left\":{\"type\":\"field\",\"field\":\"left\"},\"right\":{\"type\":\"field\",\"field\":\"right\"},\"bottom\":{\"type\":\"value\",\"value\":0},\"top\":{\"type\":\"field\",\"field\":\"top\"},\"line_color\":{\"type\":\"value\",\"value\":\"white\"},\"line_alpha\":{\"type\":\"value\",\"value\":0.2},\"fill_color\":{\"type\":\"value\",\"value\":\"#1f77b4\"},\"fill_alpha\":{\"type\":\"value\",\"value\":0.2},\"hatch_alpha\":{\"type\":\"value\",\"value\":0.2}}}}}],\"toolbar\":{\"type\":\"object\",\"name\":\"Toolbar\",\"id\":\"p1190\",\"attributes\":{\"tools\":[{\"type\":\"object\",\"name\":\"PanTool\",\"id\":\"p1203\"},{\"type\":\"object\",\"name\":\"WheelZoomTool\",\"id\":\"p1204\",\"attributes\":{\"renderers\":\"auto\"}},{\"type\":\"object\",\"name\":\"BoxZoomTool\",\"id\":\"p1205\",\"attributes\":{\"overlay\":{\"type\":\"object\",\"name\":\"BoxAnnotation\",\"id\":\"p1206\",\"attributes\":{\"syncable\":false,\"level\":\"overlay\",\"visible\":false,\"left\":{\"type\":\"number\",\"value\":\"nan\"},\"right\":{\"type\":\"number\",\"value\":\"nan\"},\"top\":{\"type\":\"number\",\"value\":\"nan\"},\"bottom\":{\"type\":\"number\",\"value\":\"nan\"},\"left_units\":\"canvas\",\"right_units\":\"canvas\",\"top_units\":\"canvas\",\"bottom_units\":\"canvas\",\"line_color\":\"black\",\"line_alpha\":1.0,\"line_width\":2,\"line_dash\":[4,4],\"fill_color\":\"lightgrey\",\"fill_alpha\":0.5}}}},{\"type\":\"object\",\"name\":\"SaveTool\",\"id\":\"p1211\"},{\"type\":\"object\",\"name\":\"ResetTool\",\"id\":\"p1212\"},{\"type\":\"object\",\"name\":\"HelpTool\",\"id\":\"p1213\"}]}},\"left\":[{\"type\":\"object\",\"name\":\"LinearAxis\",\"id\":\"p1198\",\"attributes\":{\"ticker\":{\"type\":\"object\",\"name\":\"BasicTicker\",\"id\":\"p1199\",\"attributes\":{\"mantissas\":[1,2,5]}},\"formatter\":{\"type\":\"object\",\"name\":\"BasicTickFormatter\",\"id\":\"p1200\"},\"axis_label\":\"Density\",\"major_label_policy\":{\"type\":\"object\",\"name\":\"AllLabels\",\"id\":\"p1201\"}}}],\"below\":[{\"type\":\"object\",\"name\":\"LinearAxis\",\"id\":\"p1193\",\"attributes\":{\"ticker\":{\"type\":\"object\",\"name\":\"BasicTicker\",\"id\":\"p1194\",\"attributes\":{\"mantissas\":[1,2,5]}},\"formatter\":{\"type\":\"object\",\"name\":\"BasicTickFormatter\",\"id\":\"p1195\"},\"axis_label\":\"Value\",\"major_label_policy\":{\"type\":\"object\",\"name\":\"AllLabels\",\"id\":\"p1196\"}}}],\"center\":[{\"type\":\"object\",\"name\":\"Grid\",\"id\":\"p1197\",\"attributes\":{\"axis\":{\"id\":\"p1193\"}}},{\"type\":\"object\",\"name\":\"Grid\",\"id\":\"p1202\",\"attributes\":{\"dimension\":1,\"axis\":{\"id\":\"p1198\"}}}]}}]}};\n  const render_items = [{\"docid\":\"e35e97a6-6cc1-40c7-8000-a409a941ffd5\",\"roots\":{\"p1181\":\"bfa62519-548b-4a9b-b8ac-55d2b1a4e0e7\"},\"root_ids\":[\"p1181\"]}];\n  void root.Bokeh.embed.embed_items_notebook(docs_json, render_items);\n  }\n  if (root.Bokeh !== undefined) {\n    embed_document(root);\n  } else {\n    let attempts = 0;\n    const timer = setInterval(function(root) {\n      if (root.Bokeh !== undefined) {\n        clearInterval(timer);\n        embed_document(root);\n      } else {\n        attempts++;\n        if (attempts > 100) {\n          clearInterval(timer);\n          console.log(\"Bokeh: ERROR: Unable to run BokehJS code because BokehJS library is missing\");\n        }\n      }\n    }, 10, root)\n  }\n})(window);",
      "application/vnd.bokehjs_exec.v0+json": ""
     },
     "metadata": {
      "application/vnd.bokehjs_exec.v0+json": {
       "id": "p1181"
      }
     },
     "output_type": "display_data"
    },
    {
     "data": {
      "text/html": [
       "\n",
       "  <div id=\"fc114abc-ad23-4b34-b108-866dba84f6a6\" data-root-id=\"p1226\" style=\"display: contents;\"></div>\n"
      ]
     },
     "metadata": {},
     "output_type": "display_data"
    },
    {
     "data": {
      "application/javascript": "(function(root) {\n  function embed_document(root) {\n  const docs_json = {\"c1357647-681a-4361-b888-7a95dce1e079\":{\"version\":\"3.4.0\",\"title\":\"Bokeh Application\",\"roots\":[{\"type\":\"object\",\"name\":\"Figure\",\"id\":\"p1226\",\"attributes\":{\"x_range\":{\"type\":\"object\",\"name\":\"DataRange1d\",\"id\":\"p1227\"},\"y_range\":{\"type\":\"object\",\"name\":\"DataRange1d\",\"id\":\"p1228\"},\"x_scale\":{\"type\":\"object\",\"name\":\"LinearScale\",\"id\":\"p1236\"},\"y_scale\":{\"type\":\"object\",\"name\":\"LinearScale\",\"id\":\"p1237\"},\"title\":{\"type\":\"object\",\"name\":\"Title\",\"id\":\"p1229\",\"attributes\":{\"text\":\"Histogram of 10 000 random samples with log-uniform prior\"}},\"renderers\":[{\"type\":\"object\",\"name\":\"GlyphRenderer\",\"id\":\"p1265\",\"attributes\":{\"data_source\":{\"type\":\"object\",\"name\":\"ColumnDataSource\",\"id\":\"p1259\",\"attributes\":{\"selected\":{\"type\":\"object\",\"name\":\"Selection\",\"id\":\"p1260\",\"attributes\":{\"indices\":[],\"line_indices\":[]}},\"selection_policy\":{\"type\":\"object\",\"name\":\"UnionRenderers\",\"id\":\"p1261\"},\"data\":{\"type\":\"map\",\"entries\":[[\"top\",{\"type\":\"ndarray\",\"array\":{\"type\":\"bytes\",\"data\":\"anQHsTOF2D+uF0M50a7WP1/5LM+Du9U/v7wA++jU0z/gYP2fw3zRP8NH4XoUrs8/BMNHxJRI0D/3Tulg/Z/LP8TKhF/q580/zQw34PPDzD8jC7WmecfNP1xUbw1slcg/2VdzgGCOxj+fF0M50a7GP3ye6pCb4cI/4prmHafoxD+e3hrYKsHCP4Xf2/RnP8I/dVw4EJIFxD8PyEEJM22/P3ye6pCb4cI/WyMQr+sXwD9in6ut2F/CP4whjnVxG8E/NtHLKJZbuj+tYn/ZPXnAP5BJY7SOqr4/Bk1nJ4OjvD9CVTAqqRO4PxXRyyiWW7o/OEvl7QinvT9DyQImcOu+PxhTrvAuF7k/5FBrmnecuj9WU67wLhe5PyRVMCqpE7g/hNjTDn9Ntj+33Vm77UKzPwtW8Ubmkbc/JFUwKqkTuD8A3ZiesMSzP7HUz5uKVLg/nt4a2CrBsj9T4V0u4juxP7Lf2/RnP7I/+V88g4b+sT8SX3tmSYCyPwLbFmU2yLQ/KMeA7PXurz9dyEEJM22vP57eGtgqwbI/t91Zu+1Csz8SX3tmSYCyP7/Nx7WhYqw/rWJ/2T15sD9N2NMOf02mPyjHgOz17q8/cdAKDFndqj/gYP2fw3yxPyteukkMArM/kswGmWTkrD+Y4JwRpb2xP93Jw0Ktaa4/hd/b9Gc/sj9m1xLyQc+mPxXRyyiWW6o/09WQuMfSpz8u0AoMWd2qP3/WUdUEUac/q8tFfCdmrT+Mz0nvG1+rP4Vif9k9ebA/VtHLKJZbqj9W0csolluqP+7Uz5uKVKg/jNMOf03WqD9LzAaZZOSsP7jWUdUEUac/09WQuMfSpz/+2JQrvMulPzbbFmU2yKQ/T9pVSPlJpT/+2JQrvMulP0/aVUj5SaU/S8wGmWTkrD8A3ZiesMSjP7jWUdUEUac/n9yYnrDEoz+Y4JwRpb2hP+fdWbvtQqM/LdcS8kHPpj/T1ZC4x9KnP4zTDn9N1qg/mOCcEaW9oT8b3NeBc0akP5/cmJ6wxKM/fuFdLuI7oT9G1lHVBFGnP0jj32dcOKA/\"},\"shape\":[99],\"dtype\":\"float64\",\"order\":\"little\"}],[\"left\",{\"type\":\"ndarray\",\"array\":{\"type\":\"bytes\",\"data\":\"AAAAAAAA8D/zdobEvJ3xP+btDIl5O/M/2WSTTTbZ9D/M2xkS83b2P8BSoNavFPg/sskmm2yy+T+mQK1fKVD7P5i3MyTm7fw/jC666KKL/j/AUqDWrxQAQDmO4ziO4wBAsskmm2yyAUAsBWr9SoECQKZArV8pUANAH3zwwQcfBECYtzMk5u0EQBLzdobEvAVAjC666KKLBkAFav1KgVoHQH+lQK1fKQhA+OCDDz74CEByHMdxHMcJQOtXCtT6lQpAZZNNNtlkC0DezpCYtzMMQFgK1PqVAg1A0UUXXXTRDUBLgVq/UqAOQMS8nSExbw9AH3zwwQcfEEDcGRLzdoYQQJi3MyTm7RBAVlVVVVVVEUAS83aGxLwRQM+QmLczJBJAjC666KKLEkBIzNsZEvMSQAVq/UqBWhNAwgcffPDBE0B/pUCtXykUQDtDYt7OkBRA+OCDDz74FEC1fqVArV8VQHIcx3EcxxVALrrooosuFkDrVwrU+pUWQKj1KwVq/RZAZZNNNtlkF0AiMW9nSMwXQN7OkJi3MxhAm2yyySabGEBYCtT6lQIZQBWo9SsFahlA0UUXXXTRGUCO4ziO4zgaQEuBWr9SoBpACB988MEHG0DEvJ0hMW8bQIFav1Kg1htAPvjggw8+HED7lQK1fqUcQLczJObtDB1AdNFFF110HUAxb2dIzNsdQO4MiXk7Qx5Aq6qqqqqqHkBnSMzbGRIfQCTm7QyJeR9A4YMPPvjgH0DPkJi3MyQgQK1fKVDrVyBAjC666KKLIEBq/UqBWr8gQEjM2xkS8yBAJptssskmIUAFav1KgVohQOQ4juM4jiFAwgcffPDBIUCg1q8UqPUhQH+lQK1fKSJAXXTRRRddIkA7Q2LezpAiQBoS83aGxCJA+OCDDz74IkDXrxSo9SsjQLV+pUCtXyNAk0022WSTI0ByHMdxHMcjQFDrVwrU+iNALrrooosuJEANiXk7Q2IkQOtXCtT6lSRAyiabbLLJJECo9SsFav0kQIbEvJ0hMSVAZZNNNtlkJUBDYt7OkJglQCIxb2dIzCVA\"},\"shape\":[99],\"dtype\":\"float64\",\"order\":\"little\"}],[\"right\",{\"type\":\"ndarray\",\"array\":{\"type\":\"bytes\",\"data\":\"83aGxLyd8T/m7QyJeTvzP9lkk0022fQ/zNsZEvN29j/AUqDWrxT4P7LJJptssvk/pkCtXylQ+z+YtzMk5u38P4wuuuiii/4/wFKg1q8UAEA5juM4juMAQLLJJptssgFALAVq/UqBAkCmQK1fKVADQB988MEHHwRAmLczJObtBEAS83aGxLwFQIwuuuiiiwZABWr9SoFaB0B/pUCtXykIQPjggw8++AhAchzHcRzHCUDrVwrU+pUKQGWTTTbZZAtA3s6QmLczDEBYCtT6lQINQNFFF1100Q1AS4Fav1KgDkDEvJ0hMW8PQB988MEHHxBA3BkS83aGEECYtzMk5u0QQFZVVVVVVRFAEvN2hsS8EUDPkJi3MyQSQIwuuuiiixJASMzbGRLzEkAFav1KgVoTQMIHH3zwwRNAf6VArV8pFEA7Q2LezpAUQPjggw8++BRAtX6lQK1fFUByHMdxHMcVQC666KKLLhZA61cK1PqVFkCo9SsFav0WQGWTTTbZZBdAIjFvZ0jMF0DezpCYtzMYQJtssskmmxhAWArU+pUCGUAVqPUrBWoZQNFFF1100RlAjuM4juM4GkBLgVq/UqAaQAgffPDBBxtAxLydITFvG0CBWr9SoNYbQD744IMPPhxA+5UCtX6lHEC3MyTm7QwdQHTRRRdddB1AMW9nSMzbHUDuDIl5O0MeQKuqqqqqqh5AZ0jM2xkSH0Ak5u0MiXkfQOGDDz744B9Az5CYtzMkIECtXylQ61cgQIwuuuiiiyBAav1KgVq/IEBIzNsZEvMgQCabbLLJJiFABWr9SoFaIUDkOI7jOI4hQMIHH3zwwSFAoNavFKj1IUB/pUCtXykiQF100UUXXSJAO0Ni3s6QIkAaEvN2hsQiQPjggw8++CJA168UqPUrI0C1fqVArV8jQJNNNtlkkyNAchzHcRzHI0BQ61cK1PojQC666KKLLiRADYl5O0NiJEDrVwrU+pUkQMomm2yyySRAqPUrBWr9JECGxLydITElQGWTTTbZZCVAQ2LezpCYJUAiMW9nSMwlQAAAAAAAACZA\"},\"shape\":[99],\"dtype\":\"float64\",\"order\":\"little\"}]]}}},\"view\":{\"type\":\"object\",\"name\":\"CDSView\",\"id\":\"p1266\",\"attributes\":{\"filter\":{\"type\":\"object\",\"name\":\"AllIndices\",\"id\":\"p1267\"}}},\"glyph\":{\"type\":\"object\",\"name\":\"Quad\",\"id\":\"p1262\",\"attributes\":{\"left\":{\"type\":\"field\",\"field\":\"left\"},\"right\":{\"type\":\"field\",\"field\":\"right\"},\"bottom\":{\"type\":\"value\",\"value\":0},\"top\":{\"type\":\"field\",\"field\":\"top\"},\"line_color\":{\"type\":\"value\",\"value\":\"white\"},\"fill_color\":{\"type\":\"value\",\"value\":\"#1f77b4\"}}},\"nonselection_glyph\":{\"type\":\"object\",\"name\":\"Quad\",\"id\":\"p1263\",\"attributes\":{\"left\":{\"type\":\"field\",\"field\":\"left\"},\"right\":{\"type\":\"field\",\"field\":\"right\"},\"bottom\":{\"type\":\"value\",\"value\":0},\"top\":{\"type\":\"field\",\"field\":\"top\"},\"line_color\":{\"type\":\"value\",\"value\":\"white\"},\"line_alpha\":{\"type\":\"value\",\"value\":0.1},\"fill_color\":{\"type\":\"value\",\"value\":\"#1f77b4\"},\"fill_alpha\":{\"type\":\"value\",\"value\":0.1},\"hatch_alpha\":{\"type\":\"value\",\"value\":0.1}}},\"muted_glyph\":{\"type\":\"object\",\"name\":\"Quad\",\"id\":\"p1264\",\"attributes\":{\"left\":{\"type\":\"field\",\"field\":\"left\"},\"right\":{\"type\":\"field\",\"field\":\"right\"},\"bottom\":{\"type\":\"value\",\"value\":0},\"top\":{\"type\":\"field\",\"field\":\"top\"},\"line_color\":{\"type\":\"value\",\"value\":\"white\"},\"line_alpha\":{\"type\":\"value\",\"value\":0.2},\"fill_color\":{\"type\":\"value\",\"value\":\"#1f77b4\"},\"fill_alpha\":{\"type\":\"value\",\"value\":0.2},\"hatch_alpha\":{\"type\":\"value\",\"value\":0.2}}}}}],\"toolbar\":{\"type\":\"object\",\"name\":\"Toolbar\",\"id\":\"p1235\",\"attributes\":{\"tools\":[{\"type\":\"object\",\"name\":\"PanTool\",\"id\":\"p1248\"},{\"type\":\"object\",\"name\":\"WheelZoomTool\",\"id\":\"p1249\",\"attributes\":{\"renderers\":\"auto\"}},{\"type\":\"object\",\"name\":\"BoxZoomTool\",\"id\":\"p1250\",\"attributes\":{\"overlay\":{\"type\":\"object\",\"name\":\"BoxAnnotation\",\"id\":\"p1251\",\"attributes\":{\"syncable\":false,\"level\":\"overlay\",\"visible\":false,\"left\":{\"type\":\"number\",\"value\":\"nan\"},\"right\":{\"type\":\"number\",\"value\":\"nan\"},\"top\":{\"type\":\"number\",\"value\":\"nan\"},\"bottom\":{\"type\":\"number\",\"value\":\"nan\"},\"left_units\":\"canvas\",\"right_units\":\"canvas\",\"top_units\":\"canvas\",\"bottom_units\":\"canvas\",\"line_color\":\"black\",\"line_alpha\":1.0,\"line_width\":2,\"line_dash\":[4,4],\"fill_color\":\"lightgrey\",\"fill_alpha\":0.5}}}},{\"type\":\"object\",\"name\":\"SaveTool\",\"id\":\"p1256\"},{\"type\":\"object\",\"name\":\"ResetTool\",\"id\":\"p1257\"},{\"type\":\"object\",\"name\":\"HelpTool\",\"id\":\"p1258\"}]}},\"left\":[{\"type\":\"object\",\"name\":\"LinearAxis\",\"id\":\"p1243\",\"attributes\":{\"ticker\":{\"type\":\"object\",\"name\":\"BasicTicker\",\"id\":\"p1244\",\"attributes\":{\"mantissas\":[1,2,5]}},\"formatter\":{\"type\":\"object\",\"name\":\"BasicTickFormatter\",\"id\":\"p1245\"},\"axis_label\":\"Density\",\"major_label_policy\":{\"type\":\"object\",\"name\":\"AllLabels\",\"id\":\"p1246\"}}}],\"below\":[{\"type\":\"object\",\"name\":\"LinearAxis\",\"id\":\"p1238\",\"attributes\":{\"ticker\":{\"type\":\"object\",\"name\":\"BasicTicker\",\"id\":\"p1239\",\"attributes\":{\"mantissas\":[1,2,5]}},\"formatter\":{\"type\":\"object\",\"name\":\"BasicTickFormatter\",\"id\":\"p1240\"},\"axis_label\":\"Value\",\"major_label_policy\":{\"type\":\"object\",\"name\":\"AllLabels\",\"id\":\"p1241\"}}}],\"center\":[{\"type\":\"object\",\"name\":\"Grid\",\"id\":\"p1242\",\"attributes\":{\"axis\":{\"id\":\"p1238\"}}},{\"type\":\"object\",\"name\":\"Grid\",\"id\":\"p1247\",\"attributes\":{\"dimension\":1,\"axis\":{\"id\":\"p1243\"}}}]}}]}};\n  const render_items = [{\"docid\":\"c1357647-681a-4361-b888-7a95dce1e079\",\"roots\":{\"p1226\":\"fc114abc-ad23-4b34-b108-866dba84f6a6\"},\"root_ids\":[\"p1226\"]}];\n  void root.Bokeh.embed.embed_items_notebook(docs_json, render_items);\n  }\n  if (root.Bokeh !== undefined) {\n    embed_document(root);\n  } else {\n    let attempts = 0;\n    const timer = setInterval(function(root) {\n      if (root.Bokeh !== undefined) {\n        clearInterval(timer);\n        embed_document(root);\n      } else {\n        attempts++;\n        if (attempts > 100) {\n          clearInterval(timer);\n          console.log(\"Bokeh: ERROR: Unable to run BokehJS code because BokehJS library is missing\");\n        }\n      }\n    }, 10, root)\n  }\n})(window);",
      "application/vnd.bokehjs_exec.v0+json": ""
     },
     "metadata": {
      "application/vnd.bokehjs_exec.v0+json": {
       "id": "p1226"
      }
     },
     "output_type": "display_data"
    }
   ],
   "source": [
    "import numpy as np\n",
    "import ProcessOptimizer as po\n",
    "from bokeh.io import output_notebook\n",
    "from bokeh.plotting import figure, show\n",
    "\n",
    "output_notebook()\n",
    "\n",
    "space_with_uniform_prior = po.Space(\n",
    "    dimensions=[\n",
    "        po.Real(low=1.0, high=11.0, prior=\"uniform\")\n",
    "    ]\n",
    ")\n",
    "print(f\"Space with one real dimension with uniform prior:\\n{space_with_uniform_prior}\")\n",
    "space_with_log_uniform_prior = po.Space(\n",
    "    [\n",
    "        po.Real(low=1.0, high=11.0, prior=\"log-uniform\")\n",
    "    ]\n",
    ")\n",
    "print(f\"Space one real dimension with log-uniform prior:\\n{space_with_log_uniform_prior}\\n\")\n",
    "\n",
    "random_sample_uniform = space_with_uniform_prior.rvs(n_samples=5)\n",
    "print(f\"Random samples with uniform prior:\\n{random_sample_uniform}\")\n",
    "random_sample_log = space_with_log_uniform_prior.rvs(n_samples=5)\n",
    "print(f\"Random samples with log-uniform prior:\\n{random_sample_log}\\n\")\n",
    "\n",
    "lhs_sample_uniform = space_with_uniform_prior.lhs(n=5)\n",
    "print(f\"LHS with uniform prior:\\n{lhs_sample_uniform}\")\n",
    "lhs_sample_log = space_with_log_uniform_prior.lhs(n=5)\n",
    "print(f\"LHS with log-uniform prior:\\n{lhs_sample_log}\")\n",
    "\n",
    "# Making histograms of random samples\n",
    "large_random_sample_uniform = space_with_uniform_prior.rvs(n_samples=10000)\n",
    "bins = np.linspace(1, 11, 100)\n",
    "hist, edges = np.histogram(large_random_sample_uniform, bins=bins, density=True)\n",
    "fig = figure(title=\"Histogram of 10 000 random samples with uniform prior\", x_axis_label=\"Value\", y_axis_label=\"Density\")\n",
    "fig.quad(top=hist, bottom=0, left=edges[:-1], right=edges[1:], line_color=\"white\")\n",
    "show(fig)\n",
    "\n",
    "large_random_sample_log = space_with_log_uniform_prior.rvs(n_samples=10000)\n",
    "bins = np.linspace(1, 11, 100)\n",
    "hist, edges = np.histogram(large_random_sample_log, bins=bins, density=True)\n",
    "fig = figure(title=\"Histogram of 10 000 random samples with log-uniform prior\", x_axis_label=\"Value\", y_axis_label=\"Density\")\n",
    "fig.quad(top=hist, bottom=0, left=edges[:-1], right=edges[1:], line_color=\"white\")\n",
    "show(fig)\n"
   ]
  },
  {
   "cell_type": "markdown",
   "metadata": {},
   "source": [
    "# Integer dimensions\n",
    "\n",
    "An integer dimension represents the variable as an integer between and upper and lower limit."
   ]
  },
  {
   "cell_type": "code",
   "execution_count": 4,
   "metadata": {},
   "outputs": [
    {
     "data": {
      "text/html": [
       "    <style>\n",
       "        .bk-notebook-logo {\n",
       "            display: block;\n",
       "            width: 20px;\n",
       "            height: 20px;\n",
       "            background-image: url(data:image/png;base64,iVBORw0KGgoAAAANSUhEUgAAABQAAAAUCAYAAACNiR0NAAAABHNCSVQICAgIfAhkiAAAAAlwSFlzAAALEgAACxIB0t1+/AAAABx0RVh0U29mdHdhcmUAQWRvYmUgRmlyZXdvcmtzIENTNui8sowAAAOkSURBVDiNjZRtaJVlGMd/1/08zzln5zjP1LWcU9N0NkN8m2CYjpgQYQXqSs0I84OLIC0hkEKoPtiH3gmKoiJDU7QpLgoLjLIQCpEsNJ1vqUOdO7ppbuec5+V+rj4ctwzd8IIbbi6u+8f1539dt3A78eXC7QizUF7gyV1fD1Yqg4JWz84yffhm0qkFqBogB9rM8tZdtwVsPUhWhGcFJngGeWrPzHm5oaMmkfEg1usvLFyc8jLRqDOMru7AyC8saQr7GG7f5fvDeH7Ej8CM66nIF+8yngt6HWaKh7k49Soy9nXurCi1o3qUbS3zWfrYeQDTB/Qj6kX6Ybhw4B+bOYoLKCC9H3Nu/leUTZ1JdRWkkn2ldcCamzrcf47KKXdAJllSlxAOkRgyHsGC/zRday5Qld9DyoM4/q/rUoy/CXh3jzOu3bHUVZeU+DEn8FInkPBFlu3+nW3Nw0mk6vCDiWg8CeJaxEwuHS3+z5RgY+YBR6V1Z1nxSOfoaPa4LASWxxdNp+VWTk7+4vzaou8v8PN+xo+KY2xsw6une2frhw05CTYOmQvsEhjhWjn0bmXPjpE1+kplmmkP3suftwTubK9Vq22qKmrBhpY4jvd5afdRA3wGjFAgcnTK2s4hY0/GPNIb0nErGMCRxWOOX64Z8RAC4oCXdklmEvcL8o0BfkNK4lUg9HTl+oPlQxdNo3Mg4Nv175e/1LDGzZen30MEjRUtmXSfiTVu1kK8W4txyV6BMKlbgk3lMwYCiusNy9fVfvvwMxv8Ynl6vxoByANLTWplvuj/nF9m2+PDtt1eiHPBr1oIfhCChQMBw6Aw0UulqTKZdfVvfG7VcfIqLG9bcldL/+pdWTLxLUy8Qq38heUIjh4XlzZxzQm19lLFlr8vdQ97rjZVOLf8nclzckbcD4wxXMidpX30sFd37Fv/GtwwhzhxGVAprjbg0gCAEeIgwCZyTV2Z1REEW8O4py0wsjeloKoMr6iCY6dP92H6Vw/oTyICIthibxjm/DfN9lVz8IqtqKYLUXfoKVMVQVVJOElGjrnnUt9T9wbgp8AyYKaGlqingHZU/uG2NTZSVqwHQTWkx9hxjkpWDaCg6Ckj5qebgBVbT3V3NNXMSiWSDdGV3hrtzla7J+duwPOToIg42ChPQOQjspnSlp1V+Gjdged7+8UN5CRAV7a5EdFNwCjEaBR27b3W890TE7g24NAP/mMDXRWrGoFPQI9ls/MWO2dWFAar/xcOIImbbpA3zgAAAABJRU5ErkJggg==);\n",
       "        }\n",
       "    </style>\n",
       "    <div>\n",
       "        <a href=\"https://bokeh.org\" target=\"_blank\" class=\"bk-notebook-logo\"></a>\n",
       "        <span id=\"ae393c96-b3b5-4c1b-a283-7e80436fd768\">Loading BokehJS ...</span>\n",
       "    </div>\n"
      ]
     },
     "metadata": {},
     "output_type": "display_data"
    },
    {
     "data": {
      "application/javascript": "'use strict';\n(function(root) {\n  function now() {\n    return new Date();\n  }\n\n  const force = true;\n\n  if (typeof root._bokeh_onload_callbacks === \"undefined\" || force === true) {\n    root._bokeh_onload_callbacks = [];\n    root._bokeh_is_loading = undefined;\n  }\n\nconst JS_MIME_TYPE = 'application/javascript';\n  const HTML_MIME_TYPE = 'text/html';\n  const EXEC_MIME_TYPE = 'application/vnd.bokehjs_exec.v0+json';\n  const CLASS_NAME = 'output_bokeh rendered_html';\n\n  /**\n   * Render data to the DOM node\n   */\n  function render(props, node) {\n    const script = document.createElement(\"script\");\n    node.appendChild(script);\n  }\n\n  /**\n   * Handle when an output is cleared or removed\n   */\n  function handleClearOutput(event, handle) {\n    function drop(id) {\n      const view = Bokeh.index.get_by_id(id)\n      if (view != null) {\n        view.model.document.clear()\n        Bokeh.index.delete(view)\n      }\n    }\n\n    const cell = handle.cell;\n\n    const id = cell.output_area._bokeh_element_id;\n    const server_id = cell.output_area._bokeh_server_id;\n\n    // Clean up Bokeh references\n    if (id != null) {\n      drop(id)\n    }\n\n    if (server_id !== undefined) {\n      // Clean up Bokeh references\n      const cmd_clean = \"from bokeh.io.state import curstate; print(curstate().uuid_to_server['\" + server_id + \"'].get_sessions()[0].document.roots[0]._id)\";\n      cell.notebook.kernel.execute(cmd_clean, {\n        iopub: {\n          output: function(msg) {\n            const id = msg.content.text.trim()\n            drop(id)\n          }\n        }\n      });\n      // Destroy server and session\n      const cmd_destroy = \"import bokeh.io.notebook as ion; ion.destroy_server('\" + server_id + \"')\";\n      cell.notebook.kernel.execute(cmd_destroy);\n    }\n  }\n\n  /**\n   * Handle when a new output is added\n   */\n  function handleAddOutput(event, handle) {\n    const output_area = handle.output_area;\n    const output = handle.output;\n\n    // limit handleAddOutput to display_data with EXEC_MIME_TYPE content only\n    if ((output.output_type != \"display_data\") || (!Object.prototype.hasOwnProperty.call(output.data, EXEC_MIME_TYPE))) {\n      return\n    }\n\n    const toinsert = output_area.element.find(\".\" + CLASS_NAME.split(' ')[0]);\n\n    if (output.metadata[EXEC_MIME_TYPE][\"id\"] !== undefined) {\n      toinsert[toinsert.length - 1].firstChild.textContent = output.data[JS_MIME_TYPE];\n      // store reference to embed id on output_area\n      output_area._bokeh_element_id = output.metadata[EXEC_MIME_TYPE][\"id\"];\n    }\n    if (output.metadata[EXEC_MIME_TYPE][\"server_id\"] !== undefined) {\n      const bk_div = document.createElement(\"div\");\n      bk_div.innerHTML = output.data[HTML_MIME_TYPE];\n      const script_attrs = bk_div.children[0].attributes;\n      for (let i = 0; i < script_attrs.length; i++) {\n        toinsert[toinsert.length - 1].firstChild.setAttribute(script_attrs[i].name, script_attrs[i].value);\n        toinsert[toinsert.length - 1].firstChild.textContent = bk_div.children[0].textContent\n      }\n      // store reference to server id on output_area\n      output_area._bokeh_server_id = output.metadata[EXEC_MIME_TYPE][\"server_id\"];\n    }\n  }\n\n  function register_renderer(events, OutputArea) {\n\n    function append_mime(data, metadata, element) {\n      // create a DOM node to render to\n      const toinsert = this.create_output_subarea(\n        metadata,\n        CLASS_NAME,\n        EXEC_MIME_TYPE\n      );\n      this.keyboard_manager.register_events(toinsert);\n      // Render to node\n      const props = {data: data, metadata: metadata[EXEC_MIME_TYPE]};\n      render(props, toinsert[toinsert.length - 1]);\n      element.append(toinsert);\n      return toinsert\n    }\n\n    /* Handle when an output is cleared or removed */\n    events.on('clear_output.CodeCell', handleClearOutput);\n    events.on('delete.Cell', handleClearOutput);\n\n    /* Handle when a new output is added */\n    events.on('output_added.OutputArea', handleAddOutput);\n\n    /**\n     * Register the mime type and append_mime function with output_area\n     */\n    OutputArea.prototype.register_mime_type(EXEC_MIME_TYPE, append_mime, {\n      /* Is output safe? */\n      safe: true,\n      /* Index of renderer in `output_area.display_order` */\n      index: 0\n    });\n  }\n\n  // register the mime type if in Jupyter Notebook environment and previously unregistered\n  if (root.Jupyter !== undefined) {\n    const events = require('base/js/events');\n    const OutputArea = require('notebook/js/outputarea').OutputArea;\n\n    if (OutputArea.prototype.mime_types().indexOf(EXEC_MIME_TYPE) == -1) {\n      register_renderer(events, OutputArea);\n    }\n  }\n  if (typeof (root._bokeh_timeout) === \"undefined\" || force === true) {\n    root._bokeh_timeout = Date.now() + 5000;\n    root._bokeh_failed_load = false;\n  }\n\n  const NB_LOAD_WARNING = {'data': {'text/html':\n     \"<div style='background-color: #fdd'>\\n\"+\n     \"<p>\\n\"+\n     \"BokehJS does not appear to have successfully loaded. If loading BokehJS from CDN, this \\n\"+\n     \"may be due to a slow or bad network connection. Possible fixes:\\n\"+\n     \"</p>\\n\"+\n     \"<ul>\\n\"+\n     \"<li>re-rerun `output_notebook()` to attempt to load from CDN again, or</li>\\n\"+\n     \"<li>use INLINE resources instead, as so:</li>\\n\"+\n     \"</ul>\\n\"+\n     \"<code>\\n\"+\n     \"from bokeh.resources import INLINE\\n\"+\n     \"output_notebook(resources=INLINE)\\n\"+\n     \"</code>\\n\"+\n     \"</div>\"}};\n\n  function display_loaded(error = null) {\n    const el = document.getElementById(\"ae393c96-b3b5-4c1b-a283-7e80436fd768\");\n    if (el != null) {\n      const html = (() => {\n        if (typeof root.Bokeh === \"undefined\") {\n          if (error == null) {\n            return \"BokehJS is loading ...\";\n          } else {\n            return \"BokehJS failed to load.\";\n          }\n        } else {\n          const prefix = `BokehJS ${root.Bokeh.version}`;\n          if (error == null) {\n            return `${prefix} successfully loaded.`;\n          } else {\n            return `${prefix} <b>encountered errors</b> while loading and may not function as expected.`;\n          }\n        }\n      })();\n      el.innerHTML = html;\n\n      if (error != null) {\n        const wrapper = document.createElement(\"div\");\n        wrapper.style.overflow = \"auto\";\n        wrapper.style.height = \"5em\";\n        wrapper.style.resize = \"vertical\";\n        const content = document.createElement(\"div\");\n        content.style.fontFamily = \"monospace\";\n        content.style.whiteSpace = \"pre-wrap\";\n        content.style.backgroundColor = \"rgb(255, 221, 221)\";\n        content.textContent = error.stack ?? error.toString();\n        wrapper.append(content);\n        el.append(wrapper);\n      }\n    } else if (Date.now() < root._bokeh_timeout) {\n      setTimeout(() => display_loaded(error), 100);\n    }\n  }\n\n  function run_callbacks() {\n    try {\n      root._bokeh_onload_callbacks.forEach(function(callback) {\n        if (callback != null)\n          callback();\n      });\n    } finally {\n      delete root._bokeh_onload_callbacks\n    }\n    console.debug(\"Bokeh: all callbacks have finished\");\n  }\n\n  function load_libs(css_urls, js_urls, callback) {\n    if (css_urls == null) css_urls = [];\n    if (js_urls == null) js_urls = [];\n\n    root._bokeh_onload_callbacks.push(callback);\n    if (root._bokeh_is_loading > 0) {\n      console.debug(\"Bokeh: BokehJS is being loaded, scheduling callback at\", now());\n      return null;\n    }\n    if (js_urls == null || js_urls.length === 0) {\n      run_callbacks();\n      return null;\n    }\n    console.debug(\"Bokeh: BokehJS not loaded, scheduling load and callback at\", now());\n    root._bokeh_is_loading = css_urls.length + js_urls.length;\n\n    function on_load() {\n      root._bokeh_is_loading--;\n      if (root._bokeh_is_loading === 0) {\n        console.debug(\"Bokeh: all BokehJS libraries/stylesheets loaded\");\n        run_callbacks()\n      }\n    }\n\n    function on_error(url) {\n      console.error(\"failed to load \" + url);\n    }\n\n    for (let i = 0; i < css_urls.length; i++) {\n      const url = css_urls[i];\n      const element = document.createElement(\"link\");\n      element.onload = on_load;\n      element.onerror = on_error.bind(null, url);\n      element.rel = \"stylesheet\";\n      element.type = \"text/css\";\n      element.href = url;\n      console.debug(\"Bokeh: injecting link tag for BokehJS stylesheet: \", url);\n      document.body.appendChild(element);\n    }\n\n    for (let i = 0; i < js_urls.length; i++) {\n      const url = js_urls[i];\n      const element = document.createElement('script');\n      element.onload = on_load;\n      element.onerror = on_error.bind(null, url);\n      element.async = false;\n      element.src = url;\n      console.debug(\"Bokeh: injecting script tag for BokehJS library: \", url);\n      document.head.appendChild(element);\n    }\n  };\n\n  function inject_raw_css(css) {\n    const element = document.createElement(\"style\");\n    element.appendChild(document.createTextNode(css));\n    document.body.appendChild(element);\n  }\n\n  const js_urls = [\"https://cdn.bokeh.org/bokeh/release/bokeh-3.4.0.min.js\", \"https://cdn.bokeh.org/bokeh/release/bokeh-gl-3.4.0.min.js\", \"https://cdn.bokeh.org/bokeh/release/bokeh-widgets-3.4.0.min.js\", \"https://cdn.bokeh.org/bokeh/release/bokeh-tables-3.4.0.min.js\", \"https://cdn.bokeh.org/bokeh/release/bokeh-mathjax-3.4.0.min.js\"];\n  const css_urls = [];\n\n  const inline_js = [    function(Bokeh) {\n      Bokeh.set_log_level(\"info\");\n    },\nfunction(Bokeh) {\n    }\n  ];\n\n  function run_inline_js() {\n    if (root.Bokeh !== undefined || force === true) {\n      try {\n            for (let i = 0; i < inline_js.length; i++) {\n      inline_js[i].call(root, root.Bokeh);\n    }\n\n      } catch (error) {display_loaded(error);throw error;\n      }if (force === true) {\n        display_loaded();\n      }} else if (Date.now() < root._bokeh_timeout) {\n      setTimeout(run_inline_js, 100);\n    } else if (!root._bokeh_failed_load) {\n      console.log(\"Bokeh: BokehJS failed to load within specified timeout.\");\n      root._bokeh_failed_load = true;\n    } else if (force !== true) {\n      const cell = $(document.getElementById(\"ae393c96-b3b5-4c1b-a283-7e80436fd768\")).parents('.cell').data().cell;\n      cell.output_area.append_execute_result(NB_LOAD_WARNING)\n    }\n  }\n\n  if (root._bokeh_is_loading === 0) {\n    console.debug(\"Bokeh: BokehJS loaded, going straight to plotting\");\n    run_inline_js();\n  } else {\n    load_libs(css_urls, js_urls, function() {\n      console.debug(\"Bokeh: BokehJS plotting callback run at\", now());\n      run_inline_js();\n    });\n  }\n}(window));",
      "application/vnd.bokehjs_load.v0+json": ""
     },
     "metadata": {},
     "output_type": "display_data"
    },
    {
     "name": "stdout",
     "output_type": "stream",
     "text": [
      "Space with one integer dimension:\n",
      "Space([Integer(low=1, high=10)])\n",
      "\n",
      "Random samples from space with one integer dimension:\n",
      "[[6], [9], [8], [9], [6], [9], [6], [1], [6], [9], [10], [9], [8], [2], [10], [4], [2], [4], [3], [5]]\n"
     ]
    },
    {
     "data": {
      "text/html": [
       "\n",
       "  <div id=\"c1821e9d-ec75-4d1c-a6ad-a2ce3e0a65c9\" data-root-id=\"p1136\" style=\"display: contents;\"></div>\n"
      ]
     },
     "metadata": {},
     "output_type": "display_data"
    },
    {
     "data": {
      "application/javascript": "(function(root) {\n  function embed_document(root) {\n  const docs_json = {\"0235478d-a354-430a-82db-8248eab7dd51\":{\"version\":\"3.4.0\",\"title\":\"Bokeh Application\",\"roots\":[{\"type\":\"object\",\"name\":\"Figure\",\"id\":\"p1136\",\"attributes\":{\"x_range\":{\"type\":\"object\",\"name\":\"DataRange1d\",\"id\":\"p1137\"},\"y_range\":{\"type\":\"object\",\"name\":\"DataRange1d\",\"id\":\"p1138\"},\"x_scale\":{\"type\":\"object\",\"name\":\"LinearScale\",\"id\":\"p1146\"},\"y_scale\":{\"type\":\"object\",\"name\":\"LinearScale\",\"id\":\"p1147\"},\"title\":{\"type\":\"object\",\"name\":\"Title\",\"id\":\"p1139\",\"attributes\":{\"text\":\"Histogram of 1000 random integer samples\"}},\"renderers\":[{\"type\":\"object\",\"name\":\"GlyphRenderer\",\"id\":\"p1175\",\"attributes\":{\"data_source\":{\"type\":\"object\",\"name\":\"ColumnDataSource\",\"id\":\"p1169\",\"attributes\":{\"selected\":{\"type\":\"object\",\"name\":\"Selection\",\"id\":\"p1170\",\"attributes\":{\"indices\":[],\"line_indices\":[]}},\"selection_policy\":{\"type\":\"object\",\"name\":\"UnionRenderers\",\"id\":\"p1171\"},\"data\":{\"type\":\"map\",\"entries\":[[\"top\",{\"type\":\"ndarray\",\"array\":{\"type\":\"bytes\",\"data\":\"bgAAAAAAAAAAAAAAAAAAAAAAAAAAAAAAAAAAAAAAAAAAAAAAAAAAAAAAAABZAAAAAAAAAAAAAAAAAAAAAAAAAAAAAAAAAAAAAAAAAAAAAAAAAAAAAAAAAFYAAAAAAAAAAAAAAAAAAAAAAAAAAAAAAAAAAAAAAAAAAAAAAAAAAAAAAAAAbQAAAAAAAAAAAAAAAAAAAAAAAAAAAAAAAAAAAAAAAAAAAAAAAAAAAAAAAABvAAAAAAAAAAAAAAAAAAAAAAAAAAAAAAAAAAAAAAAAAAAAAAAAAAAAAAAAAF4AAAAAAAAAAAAAAAAAAAAAAAAAAAAAAAAAAAAAAAAAAAAAAAAAAAAAAAAAYwAAAAAAAAAAAAAAAAAAAAAAAAAAAAAAAAAAAAAAAAAAAAAAAAAAAAAAAABVAAAAAAAAAAAAAAAAAAAAAAAAAAAAAAAAAAAAAAAAAAAAAAAAAAAAAAAAAHUAAAAAAAAAAAAAAAAAAAAAAAAAAAAAAAAAAAAAAAAAAAAAAAAAAABkAAAA\"},\"shape\":[99],\"dtype\":\"int32\",\"order\":\"little\"}],[\"left\",{\"type\":\"ndarray\",\"array\":{\"type\":\"bytes\",\"data\":\"AAAAAAAA8D900UUXXXTxP+miiy666PI/XXTRRRdd9D/SRRdddNH1P0YXXXTRRfc/uuiiiy66+D8uuuiiiy76P6OLLrroovs/GF100UUX/T+MLrrooov+PwAAAAAAAABAuuiiiy66AEB00UUXXXQBQC666KKLLgJA6aKLLrroAkCjiy666KIDQF100UUXXQRAGF100UUXBUDSRRdddNEFQIwuuuiiiwZARhdddNFFB0AAAAAAAAAIQLrooosuughAdNFFF110CUAvuuiiiy4KQOmiiy666ApAo4suuuiiC0BddNFFF10MQBdddNFFFw1A0kUXXXTRDUCMLrrooosOQEYXXXTRRQ9AAAAAAAAAEEBddNFFF10QQLrooosuuhBAGF100UUXEUB00UUXXXQRQNJFF1100RFALrrooosuEkCMLrrooosSQOmiiy666BJARhdddNFFE0Cjiy666KITQAAAAAAAABRAXXTRRRddFEC66KKLLroUQBdddNFFFxVAdNFFF110FUDSRRdddNEVQC+66KKLLhZAjC666KKLFkDpoosuuugWQEYXXXTRRRdAo4suuuiiF0AAAAAAAAAYQF100UUXXRhAuuiiiy66GEAXXXTRRRcZQHXRRRdddBlA0kUXXXTRGUAvuuiiiy4aQIwuuuiiixpA6aKLLrroGkBGF1100UUbQKOLLrroohtAAAAAAAAAHEBddNFFF10cQLrooosuuhxAF1100UUXHUB10UUXXXQdQNJFF1100R1AL7rooosuHkCMLrroooseQOmiiy666B5ARhdddNFFH0Cjiy666KIfQAAAAAAAACBALrrooosuIEBddNFFF10gQIwuuuiiiyBAuuiiiy66IEDpoosuuuggQBhddNFFFyFARhdddNFFIUB00UUXXXQhQKOLLrrooiFA0kUXXXTRIUAAAAAAAAAiQC+66KKLLiJAXXTRRRddIkCMLrrooosiQLrooosuuiJA6aKLLrroIkAXXXTRRRcjQEYXXXTRRSNAdNFFF110I0Cjiy666KIjQNJFF1100SNA\"},\"shape\":[99],\"dtype\":\"float64\",\"order\":\"little\"}],[\"right\",{\"type\":\"ndarray\",\"array\":{\"type\":\"bytes\",\"data\":\"dNFFF1108T/poosuuujyP1100UUXXfQ/0kUXXXTR9T9GF1100UX3P7rooosuuvg/Lrrooosu+j+jiy666KL7PxhddNFFF/0/jC666KKL/j8AAAAAAAAAQLrooosuugBAdNFFF110AUAuuuiiiy4CQOmiiy666AJAo4suuuiiA0BddNFFF10EQBhddNFFFwVA0kUXXXTRBUCMLrrooosGQEYXXXTRRQdAAAAAAAAACEC66KKLLroIQHTRRRdddAlAL7rooosuCkDpoosuuugKQKOLLrroogtAXXTRRRddDEAXXXTRRRcNQNJFF1100Q1AjC666KKLDkBGF1100UUPQAAAAAAAABBAXXTRRRddEEC66KKLLroQQBhddNFFFxFAdNFFF110EUDSRRdddNERQC666KKLLhJAjC666KKLEkDpoosuuugSQEYXXXTRRRNAo4suuuiiE0AAAAAAAAAUQF100UUXXRRAuuiiiy66FEAXXXTRRRcVQHTRRRdddBVA0kUXXXTRFUAvuuiiiy4WQIwuuuiiixZA6aKLLrroFkBGF1100UUXQKOLLrroohdAAAAAAAAAGEBddNFFF10YQLrooosuuhhAF1100UUXGUB10UUXXXQZQNJFF1100RlAL7rooosuGkCMLrrooosaQOmiiy666BpARhdddNFFG0Cjiy666KIbQAAAAAAAABxAXXTRRRddHEC66KKLLrocQBdddNFFFx1AddFFF110HUDSRRdddNEdQC+66KKLLh5AjC666KKLHkDpoosuuugeQEYXXXTRRR9Ao4suuuiiH0AAAAAAAAAgQC666KKLLiBAXXTRRRddIECMLrrooosgQLrooosuuiBA6aKLLrroIEAYXXTRRRchQEYXXXTRRSFAdNFFF110IUCjiy666KIhQNJFF1100SFAAAAAAAAAIkAvuuiiiy4iQF100UUXXSJAjC666KKLIkC66KKLLroiQOmiiy666CJAF1100UUXI0BGF1100UUjQHTRRRdddCNAo4suuuiiI0DSRRdddNEjQAAAAAAAACRA\"},\"shape\":[99],\"dtype\":\"float64\",\"order\":\"little\"}]]}}},\"view\":{\"type\":\"object\",\"name\":\"CDSView\",\"id\":\"p1176\",\"attributes\":{\"filter\":{\"type\":\"object\",\"name\":\"AllIndices\",\"id\":\"p1177\"}}},\"glyph\":{\"type\":\"object\",\"name\":\"Quad\",\"id\":\"p1172\",\"attributes\":{\"left\":{\"type\":\"field\",\"field\":\"left\"},\"right\":{\"type\":\"field\",\"field\":\"right\"},\"bottom\":{\"type\":\"value\",\"value\":0},\"top\":{\"type\":\"field\",\"field\":\"top\"},\"line_color\":{\"type\":\"value\",\"value\":\"white\"},\"fill_color\":{\"type\":\"value\",\"value\":\"#1f77b4\"}}},\"nonselection_glyph\":{\"type\":\"object\",\"name\":\"Quad\",\"id\":\"p1173\",\"attributes\":{\"left\":{\"type\":\"field\",\"field\":\"left\"},\"right\":{\"type\":\"field\",\"field\":\"right\"},\"bottom\":{\"type\":\"value\",\"value\":0},\"top\":{\"type\":\"field\",\"field\":\"top\"},\"line_color\":{\"type\":\"value\",\"value\":\"white\"},\"line_alpha\":{\"type\":\"value\",\"value\":0.1},\"fill_color\":{\"type\":\"value\",\"value\":\"#1f77b4\"},\"fill_alpha\":{\"type\":\"value\",\"value\":0.1},\"hatch_alpha\":{\"type\":\"value\",\"value\":0.1}}},\"muted_glyph\":{\"type\":\"object\",\"name\":\"Quad\",\"id\":\"p1174\",\"attributes\":{\"left\":{\"type\":\"field\",\"field\":\"left\"},\"right\":{\"type\":\"field\",\"field\":\"right\"},\"bottom\":{\"type\":\"value\",\"value\":0},\"top\":{\"type\":\"field\",\"field\":\"top\"},\"line_color\":{\"type\":\"value\",\"value\":\"white\"},\"line_alpha\":{\"type\":\"value\",\"value\":0.2},\"fill_color\":{\"type\":\"value\",\"value\":\"#1f77b4\"},\"fill_alpha\":{\"type\":\"value\",\"value\":0.2},\"hatch_alpha\":{\"type\":\"value\",\"value\":0.2}}}}}],\"toolbar\":{\"type\":\"object\",\"name\":\"Toolbar\",\"id\":\"p1145\",\"attributes\":{\"tools\":[{\"type\":\"object\",\"name\":\"PanTool\",\"id\":\"p1158\"},{\"type\":\"object\",\"name\":\"WheelZoomTool\",\"id\":\"p1159\",\"attributes\":{\"renderers\":\"auto\"}},{\"type\":\"object\",\"name\":\"BoxZoomTool\",\"id\":\"p1160\",\"attributes\":{\"overlay\":{\"type\":\"object\",\"name\":\"BoxAnnotation\",\"id\":\"p1161\",\"attributes\":{\"syncable\":false,\"level\":\"overlay\",\"visible\":false,\"left\":{\"type\":\"number\",\"value\":\"nan\"},\"right\":{\"type\":\"number\",\"value\":\"nan\"},\"top\":{\"type\":\"number\",\"value\":\"nan\"},\"bottom\":{\"type\":\"number\",\"value\":\"nan\"},\"left_units\":\"canvas\",\"right_units\":\"canvas\",\"top_units\":\"canvas\",\"bottom_units\":\"canvas\",\"line_color\":\"black\",\"line_alpha\":1.0,\"line_width\":2,\"line_dash\":[4,4],\"fill_color\":\"lightgrey\",\"fill_alpha\":0.5}}}},{\"type\":\"object\",\"name\":\"SaveTool\",\"id\":\"p1166\"},{\"type\":\"object\",\"name\":\"ResetTool\",\"id\":\"p1167\"},{\"type\":\"object\",\"name\":\"HelpTool\",\"id\":\"p1168\"}]}},\"left\":[{\"type\":\"object\",\"name\":\"LinearAxis\",\"id\":\"p1153\",\"attributes\":{\"ticker\":{\"type\":\"object\",\"name\":\"BasicTicker\",\"id\":\"p1154\",\"attributes\":{\"mantissas\":[1,2,5]}},\"formatter\":{\"type\":\"object\",\"name\":\"BasicTickFormatter\",\"id\":\"p1155\"},\"axis_label\":\"Number of occurrences\",\"major_label_policy\":{\"type\":\"object\",\"name\":\"AllLabels\",\"id\":\"p1156\"}}}],\"below\":[{\"type\":\"object\",\"name\":\"LinearAxis\",\"id\":\"p1148\",\"attributes\":{\"ticker\":{\"type\":\"object\",\"name\":\"BasicTicker\",\"id\":\"p1149\",\"attributes\":{\"mantissas\":[1,2,5]}},\"formatter\":{\"type\":\"object\",\"name\":\"BasicTickFormatter\",\"id\":\"p1150\"},\"axis_label\":\"Value\",\"major_label_policy\":{\"type\":\"object\",\"name\":\"AllLabels\",\"id\":\"p1151\"}}}],\"center\":[{\"type\":\"object\",\"name\":\"Grid\",\"id\":\"p1152\",\"attributes\":{\"axis\":{\"id\":\"p1148\"}}},{\"type\":\"object\",\"name\":\"Grid\",\"id\":\"p1157\",\"attributes\":{\"dimension\":1,\"axis\":{\"id\":\"p1153\"}}}]}}]}};\n  const render_items = [{\"docid\":\"0235478d-a354-430a-82db-8248eab7dd51\",\"roots\":{\"p1136\":\"c1821e9d-ec75-4d1c-a6ad-a2ce3e0a65c9\"},\"root_ids\":[\"p1136\"]}];\n  void root.Bokeh.embed.embed_items_notebook(docs_json, render_items);\n  }\n  if (root.Bokeh !== undefined) {\n    embed_document(root);\n  } else {\n    let attempts = 0;\n    const timer = setInterval(function(root) {\n      if (root.Bokeh !== undefined) {\n        clearInterval(timer);\n        embed_document(root);\n      } else {\n        attempts++;\n        if (attempts > 100) {\n          clearInterval(timer);\n          console.log(\"Bokeh: ERROR: Unable to run BokehJS code because BokehJS library is missing\");\n        }\n      }\n    }, 10, root)\n  }\n})(window);",
      "application/vnd.bokehjs_exec.v0+json": ""
     },
     "metadata": {
      "application/vnd.bokehjs_exec.v0+json": {
       "id": "p1136"
      }
     },
     "output_type": "display_data"
    }
   ],
   "source": [
    "import numpy as np\n",
    "import ProcessOptimizer as po\n",
    "from bokeh.io import output_notebook\n",
    "from bokeh.plotting import figure, show\n",
    "\n",
    "output_notebook()\n",
    "\n",
    "integer_space = po.Space([po.Integer(low=1, high=10)])\n",
    "print(f\"Space with one integer dimension:\\n{integer_space}\\n\")\n",
    "\n",
    "random_sample_integer = integer_space.rvs(n_samples=20)\n",
    "print(f\"Random samples from space with one integer dimension:\\n{random_sample_integer}\")\n",
    "\n",
    "large_integer_random_sample = integer_space.rvs(n_samples=1000)\n",
    "bins = np.linspace(1, 10, 100)\n",
    "hist, edges = np.histogram(large_integer_random_sample, bins=bins)\n",
    "fig = figure(title=\"Histogram of 1000 random integer samples\", x_axis_label=\"Value\", y_axis_label=\"Number of occurrences\")\n",
    "fig.quad(top=hist, bottom=0, left=edges[:-1], right=edges[1:], line_color=\"white\")\n",
    "show(fig)\n"
   ]
  },
  {
   "cell_type": "markdown",
   "metadata": {},
   "source": [
    "# Categorical dimensions\n",
    "\n",
    "A categorical dimension allows for the variable to have one of a list of values."
   ]
  },
  {
   "cell_type": "code",
   "execution_count": 70,
   "metadata": {},
   "outputs": [
    {
     "data": {
      "text/html": [
       "    <style>\n",
       "        .bk-notebook-logo {\n",
       "            display: block;\n",
       "            width: 20px;\n",
       "            height: 20px;\n",
       "            background-image: url(data:image/png;base64,iVBORw0KGgoAAAANSUhEUgAAABQAAAAUCAYAAACNiR0NAAAABHNCSVQICAgIfAhkiAAAAAlwSFlzAAALEgAACxIB0t1+/AAAABx0RVh0U29mdHdhcmUAQWRvYmUgRmlyZXdvcmtzIENTNui8sowAAAOkSURBVDiNjZRtaJVlGMd/1/08zzln5zjP1LWcU9N0NkN8m2CYjpgQYQXqSs0I84OLIC0hkEKoPtiH3gmKoiJDU7QpLgoLjLIQCpEsNJ1vqUOdO7ppbuec5+V+rj4ctwzd8IIbbi6u+8f1539dt3A78eXC7QizUF7gyV1fD1Yqg4JWz84yffhm0qkFqBogB9rM8tZdtwVsPUhWhGcFJngGeWrPzHm5oaMmkfEg1usvLFyc8jLRqDOMru7AyC8saQr7GG7f5fvDeH7Ej8CM66nIF+8yngt6HWaKh7k49Soy9nXurCi1o3qUbS3zWfrYeQDTB/Qj6kX6Ybhw4B+bOYoLKCC9H3Nu/leUTZ1JdRWkkn2ldcCamzrcf47KKXdAJllSlxAOkRgyHsGC/zRday5Qld9DyoM4/q/rUoy/CXh3jzOu3bHUVZeU+DEn8FInkPBFlu3+nW3Nw0mk6vCDiWg8CeJaxEwuHS3+z5RgY+YBR6V1Z1nxSOfoaPa4LASWxxdNp+VWTk7+4vzaou8v8PN+xo+KY2xsw6une2frhw05CTYOmQvsEhjhWjn0bmXPjpE1+kplmmkP3suftwTubK9Vq22qKmrBhpY4jvd5afdRA3wGjFAgcnTK2s4hY0/GPNIb0nErGMCRxWOOX64Z8RAC4oCXdklmEvcL8o0BfkNK4lUg9HTl+oPlQxdNo3Mg4Nv175e/1LDGzZen30MEjRUtmXSfiTVu1kK8W4txyV6BMKlbgk3lMwYCiusNy9fVfvvwMxv8Ynl6vxoByANLTWplvuj/nF9m2+PDtt1eiHPBr1oIfhCChQMBw6Aw0UulqTKZdfVvfG7VcfIqLG9bcldL/+pdWTLxLUy8Qq38heUIjh4XlzZxzQm19lLFlr8vdQ97rjZVOLf8nclzckbcD4wxXMidpX30sFd37Fv/GtwwhzhxGVAprjbg0gCAEeIgwCZyTV2Z1REEW8O4py0wsjeloKoMr6iCY6dP92H6Vw/oTyICIthibxjm/DfN9lVz8IqtqKYLUXfoKVMVQVVJOElGjrnnUt9T9wbgp8AyYKaGlqingHZU/uG2NTZSVqwHQTWkx9hxjkpWDaCg6Ckj5qebgBVbT3V3NNXMSiWSDdGV3hrtzla7J+duwPOToIg42ChPQOQjspnSlp1V+Gjdged7+8UN5CRAV7a5EdFNwCjEaBR27b3W890TE7g24NAP/mMDXRWrGoFPQI9ls/MWO2dWFAar/xcOIImbbpA3zgAAAABJRU5ErkJggg==);\n",
       "        }\n",
       "    </style>\n",
       "    <div>\n",
       "        <a href=\"https://bokeh.org\" target=\"_blank\" class=\"bk-notebook-logo\"></a>\n",
       "        <span id=\"a21a38b6-966d-4d6f-95e7-81615b79a6b8\">Loading BokehJS ...</span>\n",
       "    </div>\n"
      ]
     },
     "metadata": {},
     "output_type": "display_data"
    },
    {
     "data": {
      "application/javascript": "'use strict';\n(function(root) {\n  function now() {\n    return new Date();\n  }\n\n  const force = true;\n\n  if (typeof root._bokeh_onload_callbacks === \"undefined\" || force === true) {\n    root._bokeh_onload_callbacks = [];\n    root._bokeh_is_loading = undefined;\n  }\n\nconst JS_MIME_TYPE = 'application/javascript';\n  const HTML_MIME_TYPE = 'text/html';\n  const EXEC_MIME_TYPE = 'application/vnd.bokehjs_exec.v0+json';\n  const CLASS_NAME = 'output_bokeh rendered_html';\n\n  /**\n   * Render data to the DOM node\n   */\n  function render(props, node) {\n    const script = document.createElement(\"script\");\n    node.appendChild(script);\n  }\n\n  /**\n   * Handle when an output is cleared or removed\n   */\n  function handleClearOutput(event, handle) {\n    function drop(id) {\n      const view = Bokeh.index.get_by_id(id)\n      if (view != null) {\n        view.model.document.clear()\n        Bokeh.index.delete(view)\n      }\n    }\n\n    const cell = handle.cell;\n\n    const id = cell.output_area._bokeh_element_id;\n    const server_id = cell.output_area._bokeh_server_id;\n\n    // Clean up Bokeh references\n    if (id != null) {\n      drop(id)\n    }\n\n    if (server_id !== undefined) {\n      // Clean up Bokeh references\n      const cmd_clean = \"from bokeh.io.state import curstate; print(curstate().uuid_to_server['\" + server_id + \"'].get_sessions()[0].document.roots[0]._id)\";\n      cell.notebook.kernel.execute(cmd_clean, {\n        iopub: {\n          output: function(msg) {\n            const id = msg.content.text.trim()\n            drop(id)\n          }\n        }\n      });\n      // Destroy server and session\n      const cmd_destroy = \"import bokeh.io.notebook as ion; ion.destroy_server('\" + server_id + \"')\";\n      cell.notebook.kernel.execute(cmd_destroy);\n    }\n  }\n\n  /**\n   * Handle when a new output is added\n   */\n  function handleAddOutput(event, handle) {\n    const output_area = handle.output_area;\n    const output = handle.output;\n\n    // limit handleAddOutput to display_data with EXEC_MIME_TYPE content only\n    if ((output.output_type != \"display_data\") || (!Object.prototype.hasOwnProperty.call(output.data, EXEC_MIME_TYPE))) {\n      return\n    }\n\n    const toinsert = output_area.element.find(\".\" + CLASS_NAME.split(' ')[0]);\n\n    if (output.metadata[EXEC_MIME_TYPE][\"id\"] !== undefined) {\n      toinsert[toinsert.length - 1].firstChild.textContent = output.data[JS_MIME_TYPE];\n      // store reference to embed id on output_area\n      output_area._bokeh_element_id = output.metadata[EXEC_MIME_TYPE][\"id\"];\n    }\n    if (output.metadata[EXEC_MIME_TYPE][\"server_id\"] !== undefined) {\n      const bk_div = document.createElement(\"div\");\n      bk_div.innerHTML = output.data[HTML_MIME_TYPE];\n      const script_attrs = bk_div.children[0].attributes;\n      for (let i = 0; i < script_attrs.length; i++) {\n        toinsert[toinsert.length - 1].firstChild.setAttribute(script_attrs[i].name, script_attrs[i].value);\n        toinsert[toinsert.length - 1].firstChild.textContent = bk_div.children[0].textContent\n      }\n      // store reference to server id on output_area\n      output_area._bokeh_server_id = output.metadata[EXEC_MIME_TYPE][\"server_id\"];\n    }\n  }\n\n  function register_renderer(events, OutputArea) {\n\n    function append_mime(data, metadata, element) {\n      // create a DOM node to render to\n      const toinsert = this.create_output_subarea(\n        metadata,\n        CLASS_NAME,\n        EXEC_MIME_TYPE\n      );\n      this.keyboard_manager.register_events(toinsert);\n      // Render to node\n      const props = {data: data, metadata: metadata[EXEC_MIME_TYPE]};\n      render(props, toinsert[toinsert.length - 1]);\n      element.append(toinsert);\n      return toinsert\n    }\n\n    /* Handle when an output is cleared or removed */\n    events.on('clear_output.CodeCell', handleClearOutput);\n    events.on('delete.Cell', handleClearOutput);\n\n    /* Handle when a new output is added */\n    events.on('output_added.OutputArea', handleAddOutput);\n\n    /**\n     * Register the mime type and append_mime function with output_area\n     */\n    OutputArea.prototype.register_mime_type(EXEC_MIME_TYPE, append_mime, {\n      /* Is output safe? */\n      safe: true,\n      /* Index of renderer in `output_area.display_order` */\n      index: 0\n    });\n  }\n\n  // register the mime type if in Jupyter Notebook environment and previously unregistered\n  if (root.Jupyter !== undefined) {\n    const events = require('base/js/events');\n    const OutputArea = require('notebook/js/outputarea').OutputArea;\n\n    if (OutputArea.prototype.mime_types().indexOf(EXEC_MIME_TYPE) == -1) {\n      register_renderer(events, OutputArea);\n    }\n  }\n  if (typeof (root._bokeh_timeout) === \"undefined\" || force === true) {\n    root._bokeh_timeout = Date.now() + 5000;\n    root._bokeh_failed_load = false;\n  }\n\n  const NB_LOAD_WARNING = {'data': {'text/html':\n     \"<div style='background-color: #fdd'>\\n\"+\n     \"<p>\\n\"+\n     \"BokehJS does not appear to have successfully loaded. If loading BokehJS from CDN, this \\n\"+\n     \"may be due to a slow or bad network connection. Possible fixes:\\n\"+\n     \"</p>\\n\"+\n     \"<ul>\\n\"+\n     \"<li>re-rerun `output_notebook()` to attempt to load from CDN again, or</li>\\n\"+\n     \"<li>use INLINE resources instead, as so:</li>\\n\"+\n     \"</ul>\\n\"+\n     \"<code>\\n\"+\n     \"from bokeh.resources import INLINE\\n\"+\n     \"output_notebook(resources=INLINE)\\n\"+\n     \"</code>\\n\"+\n     \"</div>\"}};\n\n  function display_loaded(error = null) {\n    const el = document.getElementById(\"a21a38b6-966d-4d6f-95e7-81615b79a6b8\");\n    if (el != null) {\n      const html = (() => {\n        if (typeof root.Bokeh === \"undefined\") {\n          if (error == null) {\n            return \"BokehJS is loading ...\";\n          } else {\n            return \"BokehJS failed to load.\";\n          }\n        } else {\n          const prefix = `BokehJS ${root.Bokeh.version}`;\n          if (error == null) {\n            return `${prefix} successfully loaded.`;\n          } else {\n            return `${prefix} <b>encountered errors</b> while loading and may not function as expected.`;\n          }\n        }\n      })();\n      el.innerHTML = html;\n\n      if (error != null) {\n        const wrapper = document.createElement(\"div\");\n        wrapper.style.overflow = \"auto\";\n        wrapper.style.height = \"5em\";\n        wrapper.style.resize = \"vertical\";\n        const content = document.createElement(\"div\");\n        content.style.fontFamily = \"monospace\";\n        content.style.whiteSpace = \"pre-wrap\";\n        content.style.backgroundColor = \"rgb(255, 221, 221)\";\n        content.textContent = error.stack ?? error.toString();\n        wrapper.append(content);\n        el.append(wrapper);\n      }\n    } else if (Date.now() < root._bokeh_timeout) {\n      setTimeout(() => display_loaded(error), 100);\n    }\n  }\n\n  function run_callbacks() {\n    try {\n      root._bokeh_onload_callbacks.forEach(function(callback) {\n        if (callback != null)\n          callback();\n      });\n    } finally {\n      delete root._bokeh_onload_callbacks\n    }\n    console.debug(\"Bokeh: all callbacks have finished\");\n  }\n\n  function load_libs(css_urls, js_urls, callback) {\n    if (css_urls == null) css_urls = [];\n    if (js_urls == null) js_urls = [];\n\n    root._bokeh_onload_callbacks.push(callback);\n    if (root._bokeh_is_loading > 0) {\n      console.debug(\"Bokeh: BokehJS is being loaded, scheduling callback at\", now());\n      return null;\n    }\n    if (js_urls == null || js_urls.length === 0) {\n      run_callbacks();\n      return null;\n    }\n    console.debug(\"Bokeh: BokehJS not loaded, scheduling load and callback at\", now());\n    root._bokeh_is_loading = css_urls.length + js_urls.length;\n\n    function on_load() {\n      root._bokeh_is_loading--;\n      if (root._bokeh_is_loading === 0) {\n        console.debug(\"Bokeh: all BokehJS libraries/stylesheets loaded\");\n        run_callbacks()\n      }\n    }\n\n    function on_error(url) {\n      console.error(\"failed to load \" + url);\n    }\n\n    for (let i = 0; i < css_urls.length; i++) {\n      const url = css_urls[i];\n      const element = document.createElement(\"link\");\n      element.onload = on_load;\n      element.onerror = on_error.bind(null, url);\n      element.rel = \"stylesheet\";\n      element.type = \"text/css\";\n      element.href = url;\n      console.debug(\"Bokeh: injecting link tag for BokehJS stylesheet: \", url);\n      document.body.appendChild(element);\n    }\n\n    for (let i = 0; i < js_urls.length; i++) {\n      const url = js_urls[i];\n      const element = document.createElement('script');\n      element.onload = on_load;\n      element.onerror = on_error.bind(null, url);\n      element.async = false;\n      element.src = url;\n      console.debug(\"Bokeh: injecting script tag for BokehJS library: \", url);\n      document.head.appendChild(element);\n    }\n  };\n\n  function inject_raw_css(css) {\n    const element = document.createElement(\"style\");\n    element.appendChild(document.createTextNode(css));\n    document.body.appendChild(element);\n  }\n\n  const js_urls = [\"https://cdn.bokeh.org/bokeh/release/bokeh-3.4.0.min.js\", \"https://cdn.bokeh.org/bokeh/release/bokeh-gl-3.4.0.min.js\", \"https://cdn.bokeh.org/bokeh/release/bokeh-widgets-3.4.0.min.js\", \"https://cdn.bokeh.org/bokeh/release/bokeh-tables-3.4.0.min.js\", \"https://cdn.bokeh.org/bokeh/release/bokeh-mathjax-3.4.0.min.js\"];\n  const css_urls = [];\n\n  const inline_js = [    function(Bokeh) {\n      Bokeh.set_log_level(\"info\");\n    },\nfunction(Bokeh) {\n    }\n  ];\n\n  function run_inline_js() {\n    if (root.Bokeh !== undefined || force === true) {\n      try {\n            for (let i = 0; i < inline_js.length; i++) {\n      inline_js[i].call(root, root.Bokeh);\n    }\n\n      } catch (error) {display_loaded(error);throw error;\n      }if (force === true) {\n        display_loaded();\n      }} else if (Date.now() < root._bokeh_timeout) {\n      setTimeout(run_inline_js, 100);\n    } else if (!root._bokeh_failed_load) {\n      console.log(\"Bokeh: BokehJS failed to load within specified timeout.\");\n      root._bokeh_failed_load = true;\n    } else if (force !== true) {\n      const cell = $(document.getElementById(\"a21a38b6-966d-4d6f-95e7-81615b79a6b8\")).parents('.cell').data().cell;\n      cell.output_area.append_execute_result(NB_LOAD_WARNING)\n    }\n  }\n\n  if (root._bokeh_is_loading === 0) {\n    console.debug(\"Bokeh: BokehJS loaded, going straight to plotting\");\n    run_inline_js();\n  } else {\n    load_libs(css_urls, js_urls, function() {\n      console.debug(\"Bokeh: BokehJS plotting callback run at\", now());\n      run_inline_js();\n    });\n  }\n}(window));",
      "application/vnd.bokehjs_load.v0+json": ""
     },
     "metadata": {},
     "output_type": "display_data"
    },
    {
     "name": "stdout",
     "output_type": "stream",
     "text": [
      "Categorical space:\n",
      "Space([Categorical(categories=('cat', 'dog', 'elephant'), prior=None)])\n",
      "\n",
      "Random categorical samples:\n",
      "[['elephant'], ['elephant'], ['cat'], ['cat'], ['dog'], ['dog'], ['elephant'], ['dog'], ['elephant'], ['elephant']]\n",
      "Categorical LHS:\n",
      "[['elephant'], ['dog'], ['elephant'], ['cat'], ['cat']]\n"
     ]
    },
    {
     "data": {
      "text/html": [
       "\n",
       "  <div id=\"bf4865d8-750a-4f2c-93ac-43c9c44cc270\" data-root-id=\"p3103\" style=\"display: contents;\"></div>\n"
      ]
     },
     "metadata": {},
     "output_type": "display_data"
    },
    {
     "data": {
      "application/javascript": "(function(root) {\n  function embed_document(root) {\n  const docs_json = {\"1917b5a7-94b1-49c0-aefe-58062bc94e0b\":{\"version\":\"3.4.0\",\"title\":\"Bokeh Application\",\"roots\":[{\"type\":\"object\",\"name\":\"Figure\",\"id\":\"p3103\",\"attributes\":{\"x_range\":{\"type\":\"object\",\"name\":\"FactorRange\",\"id\":\"p3113\",\"attributes\":{\"factors\":[\"cat\",\"dog\",\"elephant\"]}},\"y_range\":{\"type\":\"object\",\"name\":\"DataRange1d\",\"id\":\"p3105\"},\"x_scale\":{\"type\":\"object\",\"name\":\"CategoricalScale\",\"id\":\"p3114\"},\"y_scale\":{\"type\":\"object\",\"name\":\"LinearScale\",\"id\":\"p3115\"},\"title\":{\"type\":\"object\",\"name\":\"Title\",\"id\":\"p3106\",\"attributes\":{\"text\":\"Histogram of 300 random categorical samples\"}},\"renderers\":[{\"type\":\"object\",\"name\":\"GlyphRenderer\",\"id\":\"p3143\",\"attributes\":{\"data_source\":{\"type\":\"object\",\"name\":\"ColumnDataSource\",\"id\":\"p3137\",\"attributes\":{\"selected\":{\"type\":\"object\",\"name\":\"Selection\",\"id\":\"p3138\",\"attributes\":{\"indices\":[],\"line_indices\":[]}},\"selection_policy\":{\"type\":\"object\",\"name\":\"UnionRenderers\",\"id\":\"p3139\"},\"data\":{\"type\":\"map\",\"entries\":[[\"x\",{\"type\":\"ndarray\",\"array\":[\"cat\",\"dog\",\"elephant\"],\"shape\":[3],\"dtype\":\"object\",\"order\":\"little\"}],[\"top\",[99,116,85]]]}}},\"view\":{\"type\":\"object\",\"name\":\"CDSView\",\"id\":\"p3144\",\"attributes\":{\"filter\":{\"type\":\"object\",\"name\":\"AllIndices\",\"id\":\"p3145\"}}},\"glyph\":{\"type\":\"object\",\"name\":\"VBar\",\"id\":\"p3140\",\"attributes\":{\"x\":{\"type\":\"field\",\"field\":\"x\"},\"width\":{\"type\":\"value\",\"value\":0.5},\"top\":{\"type\":\"field\",\"field\":\"top\"},\"line_color\":{\"type\":\"value\",\"value\":\"#1f77b4\"},\"fill_color\":{\"type\":\"value\",\"value\":\"#1f77b4\"}}},\"nonselection_glyph\":{\"type\":\"object\",\"name\":\"VBar\",\"id\":\"p3141\",\"attributes\":{\"x\":{\"type\":\"field\",\"field\":\"x\"},\"width\":{\"type\":\"value\",\"value\":0.5},\"top\":{\"type\":\"field\",\"field\":\"top\"},\"line_color\":{\"type\":\"value\",\"value\":\"#1f77b4\"},\"line_alpha\":{\"type\":\"value\",\"value\":0.1},\"fill_color\":{\"type\":\"value\",\"value\":\"#1f77b4\"},\"fill_alpha\":{\"type\":\"value\",\"value\":0.1},\"hatch_alpha\":{\"type\":\"value\",\"value\":0.1}}},\"muted_glyph\":{\"type\":\"object\",\"name\":\"VBar\",\"id\":\"p3142\",\"attributes\":{\"x\":{\"type\":\"field\",\"field\":\"x\"},\"width\":{\"type\":\"value\",\"value\":0.5},\"top\":{\"type\":\"field\",\"field\":\"top\"},\"line_color\":{\"type\":\"value\",\"value\":\"#1f77b4\"},\"line_alpha\":{\"type\":\"value\",\"value\":0.2},\"fill_color\":{\"type\":\"value\",\"value\":\"#1f77b4\"},\"fill_alpha\":{\"type\":\"value\",\"value\":0.2},\"hatch_alpha\":{\"type\":\"value\",\"value\":0.2}}}}}],\"toolbar\":{\"type\":\"object\",\"name\":\"Toolbar\",\"id\":\"p3112\",\"attributes\":{\"tools\":[{\"type\":\"object\",\"name\":\"PanTool\",\"id\":\"p3126\"},{\"type\":\"object\",\"name\":\"WheelZoomTool\",\"id\":\"p3127\",\"attributes\":{\"renderers\":\"auto\"}},{\"type\":\"object\",\"name\":\"BoxZoomTool\",\"id\":\"p3128\",\"attributes\":{\"overlay\":{\"type\":\"object\",\"name\":\"BoxAnnotation\",\"id\":\"p3129\",\"attributes\":{\"syncable\":false,\"level\":\"overlay\",\"visible\":false,\"left\":{\"type\":\"number\",\"value\":\"nan\"},\"right\":{\"type\":\"number\",\"value\":\"nan\"},\"top\":{\"type\":\"number\",\"value\":\"nan\"},\"bottom\":{\"type\":\"number\",\"value\":\"nan\"},\"left_units\":\"canvas\",\"right_units\":\"canvas\",\"top_units\":\"canvas\",\"bottom_units\":\"canvas\",\"line_color\":\"black\",\"line_alpha\":1.0,\"line_width\":2,\"line_dash\":[4,4],\"fill_color\":\"lightgrey\",\"fill_alpha\":0.5}}}},{\"type\":\"object\",\"name\":\"SaveTool\",\"id\":\"p3134\"},{\"type\":\"object\",\"name\":\"ResetTool\",\"id\":\"p3135\"},{\"type\":\"object\",\"name\":\"HelpTool\",\"id\":\"p3136\"}]}},\"left\":[{\"type\":\"object\",\"name\":\"LinearAxis\",\"id\":\"p3121\",\"attributes\":{\"ticker\":{\"type\":\"object\",\"name\":\"BasicTicker\",\"id\":\"p3122\",\"attributes\":{\"mantissas\":[1,2,5]}},\"formatter\":{\"type\":\"object\",\"name\":\"BasicTickFormatter\",\"id\":\"p3123\"},\"axis_label\":\"Number of occurrences\",\"major_label_policy\":{\"type\":\"object\",\"name\":\"AllLabels\",\"id\":\"p3124\"}}}],\"below\":[{\"type\":\"object\",\"name\":\"CategoricalAxis\",\"id\":\"p3116\",\"attributes\":{\"ticker\":{\"type\":\"object\",\"name\":\"CategoricalTicker\",\"id\":\"p3117\"},\"formatter\":{\"type\":\"object\",\"name\":\"CategoricalTickFormatter\",\"id\":\"p3118\"},\"axis_label\":\"Category\",\"major_label_policy\":{\"type\":\"object\",\"name\":\"AllLabels\",\"id\":\"p3119\"}}}],\"center\":[{\"type\":\"object\",\"name\":\"Grid\",\"id\":\"p3120\",\"attributes\":{\"axis\":{\"id\":\"p3116\"}}},{\"type\":\"object\",\"name\":\"Grid\",\"id\":\"p3125\",\"attributes\":{\"dimension\":1,\"axis\":{\"id\":\"p3121\"}}}]}}]}};\n  const render_items = [{\"docid\":\"1917b5a7-94b1-49c0-aefe-58062bc94e0b\",\"roots\":{\"p3103\":\"bf4865d8-750a-4f2c-93ac-43c9c44cc270\"},\"root_ids\":[\"p3103\"]}];\n  void root.Bokeh.embed.embed_items_notebook(docs_json, render_items);\n  }\n  if (root.Bokeh !== undefined) {\n    embed_document(root);\n  } else {\n    let attempts = 0;\n    const timer = setInterval(function(root) {\n      if (root.Bokeh !== undefined) {\n        clearInterval(timer);\n        embed_document(root);\n      } else {\n        attempts++;\n        if (attempts > 100) {\n          clearInterval(timer);\n          console.log(\"Bokeh: ERROR: Unable to run BokehJS code because BokehJS library is missing\");\n        }\n      }\n    }, 10, root)\n  }\n})(window);",
      "application/vnd.bokehjs_exec.v0+json": ""
     },
     "metadata": {
      "application/vnd.bokehjs_exec.v0+json": {
       "id": "p3103"
      }
     },
     "output_type": "display_data"
    }
   ],
   "source": [
    "import numpy as np\n",
    "import ProcessOptimizer as po\n",
    "from bokeh.io import output_notebook\n",
    "from bokeh.plotting import figure, show\n",
    "\n",
    "output_notebook()\n",
    "\n",
    "categories = [\"cat\", \"dog\", \"elephant\"]\n",
    "categorical_space = po.Space([categories])\n",
    "print(f\"Categorical space:\\n{categorical_space}\\n\")\n",
    "\n",
    "random_sample_categorical = categorical_space.rvs(n_samples=10)\n",
    "print(f\"Random categorical samples:\\n{random_sample_categorical}\")\n",
    "\n",
    "lhs_sample_categorical = categorical_space.lhs(n=5)\n",
    "print(f\"Categorical LHS:\\n{lhs_sample_categorical}\")\n",
    "\n",
    "large_categorical_random_sample = categorical_space.rvs(n_samples=300)\n",
    "unique, counts = np.unique(large_categorical_random_sample, return_counts=True)\n",
    "counts = [counts[unique == category][0] for category in categories]\n",
    "fig = figure(x_range = categories, title=\"Histogram of 300 random categorical samples\", x_axis_label=\"Category\", y_axis_label=\"Number of occurrences\")\n",
    "fig.vbar(x=unique, top=counts, width=0.5)\n",
    "show(fig)"
   ]
  },
  {
   "cell_type": "markdown",
   "metadata": {},
   "source": [
    "## Transformation\n",
    "\n",
    "Modelling often works better in a transformed space. Under the hood, the\n",
    "`Space` transforms the points in control parameter space into a space that\n",
    "works better with modelling, typically a hyper-cube of the form [0;1]^n."
   ]
  },
  {
   "cell_type": "code",
   "execution_count": 12,
   "metadata": {},
   "outputs": [
    {
     "name": "stdout",
     "output_type": "stream",
     "text": [
      "Random point from the space:\n",
      "[[3.3545092082438477, 3, 'elephant']]\n",
      "\n",
      "Transformed point:\n",
      "[[0.26161213 0.22222222 0.         0.         1.        ]]\n"
     ]
    }
   ],
   "source": [
    "import ProcessOptimizer as po\n",
    "\n",
    "space = po.Space(\n",
    "    dimensions=[\n",
    "        po.Real(1., 10.),\n",
    "        po.Integer(1, 10),\n",
    "        po.Categorical([\"cat\", \"dog\", \"elephant\"]),\n",
    "    ]\n",
    ")\n",
    "space = po.space.normalize_dimensions(space)\n",
    "\n",
    "random_point = space.rvs(1, random_state=2)\n",
    "transformed_point = space.transform(random_point)\n",
    "\n",
    "print(f\"Random point from the space:\\n{random_point}\\n\")\n",
    "print(f\"Transformed point:\\n{transformed_point}\")"
   ]
  },
  {
   "cell_type": "markdown",
   "metadata": {},
   "source": [
    "# Parameter names\n",
    "\n",
    "The parameters can have names to make the easier to tell apart."
   ]
  },
  {
   "cell_type": "code",
   "execution_count": 16,
   "metadata": {},
   "outputs": [],
   "source": [
    "import ProcessOptimizer as po\n",
    "space = po.Space(\n",
    "    dimensions=[\n",
    "        po.Real(90., 120., name = \"temperature\"),\n",
    "        po.Integer(1, 10, name = \"number_of_eggs\"),\n",
    "        po.Categorical([\"pot\", \"pan\", \"skillet\"], name=\"cooking_device\"),\n",
    "    ]\n",
    ")\n"
   ]
  }
 ],
 "metadata": {
  "kernelspec": {
   "display_name": ".env",
   "language": "python",
   "name": "python3"
  },
  "language_info": {
   "codemirror_mode": {
    "name": "ipython",
    "version": 3
   },
   "file_extension": ".py",
   "mimetype": "text/x-python",
   "name": "python",
   "nbconvert_exporter": "python",
   "pygments_lexer": "ipython3",
   "version": "3.9.1"
  }
 },
 "nbformat": 4,
 "nbformat_minor": 2
}
