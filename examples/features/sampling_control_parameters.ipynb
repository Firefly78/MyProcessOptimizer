{
 "cells": [
  {
   "cell_type": "markdown",
   "metadata": {},
   "source": [
    "# Random states\n",
    "\n",
    "Both random value sampling and Latin hypercube sampling supports taking a\n",
    "random seed to allow for reproducible sampling. They support a variety of\n",
    "formats, or `None` for true randomness.\n",
    "\n",
    "Random value sampling is random by default, while Latin hypercube sampling is\n",
    "pseudo-random. Note that randomising the Latin hypercube sampling results in\n",
    "(mostly) different points being sampled, but the sampled values for each\n",
    "dimension are the same."
   ]
  },
  {
   "cell_type": "code",
   "execution_count": 1,
   "metadata": {},
   "outputs": [
    {
     "name": "stdout",
     "output_type": "stream",
     "text": [
      "1'th random sample: [[7.390529359011395, 9, 'elephant']]\n",
      "2'th random sample: [[1.442210836475473, 2, 'cat']]\n",
      "3'th random sample: [[8.107401471071999, 9, 'cat']]\n",
      "4'th random sample: [[1.7276142925588749, 2, 'cat']]\n",
      "5'th random sample: [[4.1641050842516965, 1, 'dog']]\n",
      "6'th random sample: [[8.955956661217495, 2, 'cat']]\n",
      "7'th random sample: [[2.9798107393062985, 5, 'elephant']]\n",
      "8'th random sample: [[8.10343485571568, 9, 'cat']]\n",
      "9'th random sample: [[8.268070627926466, 5, 'elephant']]\n",
      "10'th random sample: [[9.219540236774463, 8, 'dog']]\n",
      "\n",
      "\n",
      "1'th pseudo-random sample: [[3.3545092082438477, 3, 'elephant']]\n",
      "2'th pseudo-random sample: [[3.3545092082438477, 3, 'elephant']]\n",
      "3'th pseudo-random sample: [[3.3545092082438477, 3, 'elephant']]\n",
      "4'th pseudo-random sample: [[3.3545092082438477, 3, 'elephant']]\n",
      "5'th pseudo-random sample: [[3.3545092082438477, 3, 'elephant']]\n",
      "6'th pseudo-random sample: [[3.3545092082438477, 3, 'elephant']]\n",
      "7'th pseudo-random sample: [[3.3545092082438477, 3, 'elephant']]\n",
      "8'th pseudo-random sample: [[3.3545092082438477, 3, 'elephant']]\n",
      "9'th pseudo-random sample: [[3.3545092082438477, 3, 'elephant']]\n",
      "10'th pseudo-random sample: [[3.3545092082438477, 3, 'elephant']]\n",
      "\n",
      "\n",
      "First Latin hypercube sampling:  [[9.1, 8, 'dog'], [5.5, 2, 'elephant'], [7.3, 4, 'cat'], [3.6999999999999997, 6, 'cat'], [1.9, 10, 'elephant']]\n",
      "Second Latin hypercube sampling: [[9.1, 8, 'dog'], [5.5, 2, 'elephant'], [7.3, 4, 'cat'], [3.6999999999999997, 6, 'cat'], [1.9, 10, 'elephant']]\n",
      "LHS sampling with different seed:  [[5.5, 6, 'elephant'], [9.1, 2, 'elephant'], [7.3, 10, 'dog'], [1.9, 8, 'cat'], [3.6999999999999997, 4, 'cat']]\n"
     ]
    }
   ],
   "source": [
    "import ProcessOptimizer as po\n",
    "\n",
    "space_definition = [[1., 10.], [1, 10], [\"cat\", \"dog\", \"elephant\"]]\n",
    "space = po.Space(space_definition)\n",
    "\n",
    "for i in range(10):\n",
    "    print(f\"{i+1}'th random sample: {space.rvs(n_samples=1)}\")\n",
    "\n",
    "print(\"\\n\")\n",
    "\n",
    "for i in range(10):\n",
    "    print(f\"{i+1}'th pseudo-random sample: {space.rvs(n_samples=1, random_state=2)}\")\n",
    "\n",
    "print(\"\\n\")\n",
    "\n",
    "print(f\"First Latin hypercube sampling:  {space.lhs(n=5)}\")\n",
    "print(f\"Second Latin hypercube sampling: {space.lhs(n=5)}\")\n",
    "print(f\"LHS sampling with different seed:  {space.lhs(n=5, seed=2)}\")"
   ]
  }
 ],
 "metadata": {
  "kernelspec": {
   "display_name": ".env",
   "language": "python",
   "name": "python3"
  },
  "language_info": {
   "codemirror_mode": {
    "name": "ipython",
    "version": 3
   },
   "file_extension": ".py",
   "mimetype": "text/x-python",
   "name": "python",
   "nbconvert_exporter": "python",
   "pygments_lexer": "ipython3",
   "version": "3.9.1"
  }
 },
 "nbformat": 4,
 "nbformat_minor": 2
}
