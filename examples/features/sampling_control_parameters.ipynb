{
 "cells": [
  {
   "cell_type": "markdown",
   "metadata": {},
   "source": [
    "# Sampling control parameters\n",
    "\n",
    "This notebook explains the different sampling strategies for control parameters that are\n",
    "built in.\n",
    "\n",
    "Note that as far as possible, priors are respected in sampling.\n",
    "\n",
    "## Random sampling\n",
    "\n",
    "From a `Space`, it is possible to do random sampling, which gives a sample according to\n",
    "the `prior` distribution of the `Space`:"
   ]
  },
  {
   "cell_type": "code",
   "execution_count": 1,
   "metadata": {},
   "outputs": [
    {
     "name": "stdout",
     "output_type": "stream",
     "text": [
      "0'th random sample: [54.174760171587415, 674.1542254907736, 1, 'cat']\n",
      "1'th random sample: [716.9616655661121, 152.88667160503823, 3, 'cat']\n",
      "2'th random sample: [656.481264360899, 41.233140642938295, 4, 'dog']\n",
      "3'th random sample: [754.7391984415862, 18.011168456210566, 8, 'elephant']\n",
      "4'th random sample: [229.02961612859752, 63.82480252005361, 10, 'dog']\n",
      "5'th random sample: [526.8215344510819, 6.351362792457992, 9, 'dog']\n",
      "6'th random sample: [232.80536356182446, 1.0621496189803472, 3, 'cat']\n",
      "7'th random sample: [189.36602317461546, 3.573226370662693, 4, 'cat']\n",
      "8'th random sample: [239.02737445097802, 2.718447964983453, 1, 'elephant']\n",
      "9'th random sample: [772.7076878631481, 40.61510332081704, 5, 'cat']\n"
     ]
    }
   ],
   "source": [
    "import ProcessOptimizer as po\n",
    "\n",
    "# Define the space\n",
    "space = po.Space(\n",
    "    dimensions=[\n",
    "        po.Real(1, 1000, prior='uniform'),\n",
    "        po.Real(1, 1000, prior='log-uniform'),\n",
    "        po.Integer(1, 10),\n",
    "        po.Categorical([\"cat\", \"dog\", \"elephant\"]),\n",
    "    ]\n",
    ")\n",
    "\n",
    "# Generate random samples\n",
    "random_sample_list = space.rvs(n_samples=10)\n",
    "\n",
    "# Print the random samples\n",
    "for i in range(10):\n",
    "    print(f\"{i}'th random sample: {random_sample_list[i]}\")"
   ]
  },
  {
   "cell_type": "markdown",
   "metadata": {},
   "source": [
    "# Latin hypercube sampling\n",
    "\n",
    "Random sampling is not a good starting point for doing Bayesian optimisation. It is better\n",
    "to have the starting samples distributed over the dimensions in a controlled manner. This\n",
    "is ensured by Latin Hypercube sampling, which provides samples that are guaranteed to be\n",
    "equally distributed on each dimension with a uniform prior (but not on combinations of\n",
    "dimensions). On dimensions with non-uniform priors, the prior is respected. This means\n",
    "that the points sampled along a given dimension will have the distrubtion specified by the\n",
    "prior."
   ]
  },
  {
   "cell_type": "code",
   "execution_count": 2,
   "metadata": {},
   "outputs": [
    {
     "name": "stdout",
     "output_type": "stream",
     "text": [
      "0'th LHS sample: [550.45, 22.387211385683397, 1, 'dog']\n",
      "1'th LHS sample: [650.35, 354.8133892335753, 10, 'cat']\n",
      "2'th LHS sample: [50.95, 5.62341325190349, 9, 'cat']\n",
      "3'th LHS sample: [750.25, 89.12509381337456, 5, 'elephant']\n",
      "4'th LHS sample: [350.65, 44.668359215096324, 8, 'elephant']\n",
      "5'th LHS sample: [250.75, 707.9457843841375, 3, 'dog']\n",
      "6'th LHS sample: [450.55, 177.82794100389225, 4, 'elephant']\n",
      "7'th LHS sample: [950.05, 11.22018454301963, 6, 'dog']\n",
      "8'th LHS sample: [150.85, 1.4125375446227544, 7, 'cat']\n",
      "9'th LHS sample: [850.15, 2.8183829312644537, 2, 'dog']\n"
     ]
    }
   ],
   "source": [
    "# Generate LHS samples\n",
    "LHS_sample_list = space.lhs(n=10)\n",
    "\n",
    "# Print the LHS samples\n",
    "for i in range(10):\n",
    "    print(f\"{i}'th LHS sample: {LHS_sample_list[i]}\")"
   ]
  },
  {
   "cell_type": "markdown",
   "metadata": {},
   "source": [
    "# Random states\n",
    "\n",
    "Both random value sampling and Latin hypercube sampling supports taking a\n",
    "random seed to allow for reproducible sampling. They support a variety of\n",
    "formats, or `None` for true randomness.\n",
    "\n",
    "Random value sampling is random by default, while Latin hypercube sampling is\n",
    "pseudo-random. Note that randomising the Latin hypercube sampling results in\n",
    "(mostly) different points being sampled, but the sampled values for each\n",
    "dimension are the same."
   ]
  },
  {
   "cell_type": "code",
   "execution_count": 3,
   "metadata": {},
   "outputs": [
    {
     "name": "stdout",
     "output_type": "stream",
     "text": [
      "1'th random sample: [[4.799630764832692, 9, 'cat']]\n",
      "2'th random sample: [[6.868553144430436, 1, 'cat']]\n",
      "3'th random sample: [[5.198243894739806, 6, 'elephant']]\n",
      "4'th random sample: [[8.773373646979952, 1, 'cat']]\n",
      "5'th random sample: [[2.5516215654736087, 2, 'dog']]\n",
      "\n",
      "\n",
      "1'th pseudo-random sample: [[3.3545092082438477, 3, 'elephant']]\n",
      "2'th pseudo-random sample: [[3.3545092082438477, 3, 'elephant']]\n",
      "3'th pseudo-random sample: [[3.3545092082438477, 3, 'elephant']]\n",
      "4'th pseudo-random sample: [[3.3545092082438477, 3, 'elephant']]\n",
      "5'th pseudo-random sample: [[3.3545092082438477, 3, 'elephant']]\n",
      "\n",
      "\n",
      "First Latin hypercube sampling:  [[9.1, 8, 'dog'], [5.5, 2, 'elephant'], [7.3, 4, 'cat'], [3.6999999999999997, 6, 'cat'], [1.9, 10, 'elephant']]\n",
      "Second Latin hypercube sampling: [[9.1, 8, 'dog'], [5.5, 2, 'elephant'], [7.3, 4, 'cat'], [3.6999999999999997, 6, 'cat'], [1.9, 10, 'elephant']]\n",
      "LHS sampling with different seed:  [[5.5, 6, 'elephant'], [9.1, 2, 'elephant'], [7.3, 10, 'dog'], [1.9, 8, 'cat'], [3.6999999999999997, 4, 'cat']]\n"
     ]
    }
   ],
   "source": [
    "# Define the space\n",
    "space_definition = [[1., 10.], [1, 10], [\"cat\", \"dog\", \"elephant\"]]\n",
    "space = po.Space(space_definition)\n",
    "\n",
    "# Generate random samples and print them\n",
    "for i in range(5):\n",
    "    print(f\"{i+1}'th random sample: {space.rvs(n_samples=1)}\")\n",
    "\n",
    "print(\"\\n\")\n",
    "\n",
    "# Generate pseudo-random samples and print them\n",
    "for i in range(5):\n",
    "    print(f\"{i+1}'th pseudo-random sample: {space.rvs(n_samples=1, random_state=2)}\")\n",
    "\n",
    "print(\"\\n\")\n",
    "\n",
    "# Generate LHS samples and print them\n",
    "print(f\"First Latin hypercube sampling:  {space.lhs(n=5)}\")\n",
    "print(f\"Second Latin hypercube sampling: {space.lhs(n=5)}\")\n",
    "print(f\"LHS sampling with different seed:  {space.lhs(n=5, seed=2)}\")"
   ]
  },
  {
   "cell_type": "code",
   "execution_count": null,
   "metadata": {},
   "outputs": [],
   "source": []
  }
 ],
 "metadata": {
  "kernelspec": {
   "display_name": ".env",
   "language": "python",
   "name": "python3"
  },
  "language_info": {
   "codemirror_mode": {
    "name": "ipython",
    "version": 3
   },
   "file_extension": ".py",
   "mimetype": "text/x-python",
   "name": "python",
   "nbconvert_exporter": "python",
   "pygments_lexer": "ipython3",
   "version": "3.11.5"
  }
 },
 "nbformat": 4,
 "nbformat_minor": 2
}
