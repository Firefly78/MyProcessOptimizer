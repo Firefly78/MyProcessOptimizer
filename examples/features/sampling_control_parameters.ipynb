{
 "cells": [
  {
   "cell_type": "markdown",
   "metadata": {},
   "source": [
    "# Sampling control parameters\n",
    "\n",
    "This notebook explains the different sampling strategies for control parameters that are\n",
    "built in.\n",
    "\n",
    "Note that as far as possible, priors are respected in sampling.\n",
    "\n",
    "## Random sampling\n",
    "\n",
    "From a `Space`, it os possible to do random sampling, which gives a sample according to\n",
    "the prior distribution of the `Space`:"
   ]
  },
  {
   "cell_type": "code",
   "execution_count": 6,
   "metadata": {},
   "outputs": [
    {
     "name": "stdout",
     "output_type": "stream",
     "text": [
      "0'th random sample: [739.593012223842, 15.457662369351741, 2, 'dog']\n",
      "1'th random sample: [68.95816738762488, 13.915524343015452, 1, 'cat']\n",
      "2'th random sample: [828.5451197510599, 288.91928387972035, 10, 'elephant']\n",
      "3'th random sample: [836.7336112909996, 210.87625626774764, 8, 'dog']\n",
      "4'th random sample: [491.93654908949105, 161.44928464330687, 4, 'dog']\n",
      "5'th random sample: [293.97383241199447, 349.49202940768765, 2, 'dog']\n",
      "6'th random sample: [540.2237486887326, 51.33297577507535, 1, 'cat']\n",
      "7'th random sample: [411.6171736917781, 96.08847722772703, 7, 'elephant']\n",
      "8'th random sample: [31.8077228608918, 10.834477554913208, 10, 'cat']\n",
      "9'th random sample: [262.7062962324372, 6.022598002141888, 3, 'dog']\n"
     ]
    }
   ],
   "source": [
    "import ProcessOptimizer as po\n",
    "\n",
    "space = po.Space(\n",
    "    dimensions=[\n",
    "        po.Real(1, 1000, prior='uniform'),\n",
    "        po.Real(1, 1000, prior='log-uniform'),\n",
    "        po.Integer(1, 10),\n",
    "        po.Categorical([\"cat\", \"dog\", \"elephant\"]),\n",
    "    ]\n",
    ")\n",
    "\n",
    "random_sample_list = space.rvs(n_samples=10)\n",
    "for i in range(10):\n",
    "    print(f\"{i}'th random sample: {random_sample_list[i]}\")"
   ]
  },
  {
   "cell_type": "markdown",
   "metadata": {},
   "source": [
    "# Latin Hypercube sampling\n",
    "\n",
    "Random sampling is not a good starting point for doing Bayesian optimisation. It is better\n",
    "to have the starting samples spread out over the dimensions. This is ensured by Latin\n",
    "Hypercube sampling, which provides samples that are guaranteed to the equally distributed\n",
    "on each dimension with a uniform prior (but not on combinations of dimensions). On\n",
    "dimensions with non-uniform priors, the prior is respected, while the wide distribution is\n",
    "preserved:"
   ]
  },
  {
   "cell_type": "code",
   "execution_count": 9,
   "metadata": {},
   "outputs": [
    {
     "name": "stdout",
     "output_type": "stream",
     "text": [
      "0'th LHS sample: [550.45, 22.387211385683397, 1, 'dog']\n",
      "1'th LHS sample: [650.35, 354.8133892335753, 10, 'cat']\n",
      "2'th LHS sample: [50.95, 5.62341325190349, 9, 'cat']\n",
      "3'th LHS sample: [750.25, 89.12509381337456, 5, 'elephant']\n",
      "4'th LHS sample: [350.65, 44.668359215096324, 8, 'elephant']\n",
      "5'th LHS sample: [250.75, 707.9457843841375, 3, 'dog']\n",
      "6'th LHS sample: [450.55, 177.82794100389225, 4, 'elephant']\n",
      "7'th LHS sample: [950.05, 11.22018454301963, 6, 'dog']\n",
      "8'th LHS sample: [150.85, 1.4125375446227544, 7, 'cat']\n",
      "9'th LHS sample: [850.15, 2.8183829312644537, 2, 'dog']\n"
     ]
    },
    {
     "ename": "",
     "evalue": "",
     "output_type": "error",
     "traceback": [
      "\u001b[1;31mThe Kernel crashed while executing code in the current cell or a previous cell. \n",
      "\u001b[1;31mPlease review the code in the cell(s) to identify a possible cause of the failure. \n",
      "\u001b[1;31mClick <a href='https://aka.ms/vscodeJupyterKernelCrash'>here</a> for more info. \n",
      "\u001b[1;31mView Jupyter <a href='command:jupyter.viewOutput'>log</a> for further details."
     ]
    }
   ],
   "source": [
    "LHS_sample_list = space.lhs(n=10)\n",
    "for i in range(10):\n",
    "    print(f\"{i}'th LHS sample: {LHS_sample_list[i]}\")"
   ]
  },
  {
   "cell_type": "markdown",
   "metadata": {},
   "source": [
    "# Random states\n",
    "\n",
    "Both random value sampling and Latin hypercube sampling supports taking a\n",
    "random seed to allow for reproducible sampling. They support a variety of\n",
    "formats, or `None` for true randomness.\n",
    "\n",
    "Random value sampling is random by default, while Latin hypercube sampling is\n",
    "pseudo-random. Note that randomising the Latin hypercube sampling results in\n",
    "(mostly) different points being sampled, but the sampled values for each\n",
    "dimension are the same."
   ]
  },
  {
   "cell_type": "code",
   "execution_count": 1,
   "metadata": {},
   "outputs": [
    {
     "name": "stdout",
     "output_type": "stream",
     "text": [
      "1'th random sample: [[7.390529359011395, 9, 'elephant']]\n",
      "2'th random sample: [[1.442210836475473, 2, 'cat']]\n",
      "3'th random sample: [[8.107401471071999, 9, 'cat']]\n",
      "4'th random sample: [[1.7276142925588749, 2, 'cat']]\n",
      "5'th random sample: [[4.1641050842516965, 1, 'dog']]\n",
      "6'th random sample: [[8.955956661217495, 2, 'cat']]\n",
      "7'th random sample: [[2.9798107393062985, 5, 'elephant']]\n",
      "8'th random sample: [[8.10343485571568, 9, 'cat']]\n",
      "9'th random sample: [[8.268070627926466, 5, 'elephant']]\n",
      "10'th random sample: [[9.219540236774463, 8, 'dog']]\n",
      "\n",
      "\n",
      "1'th pseudo-random sample: [[3.3545092082438477, 3, 'elephant']]\n",
      "2'th pseudo-random sample: [[3.3545092082438477, 3, 'elephant']]\n",
      "3'th pseudo-random sample: [[3.3545092082438477, 3, 'elephant']]\n",
      "4'th pseudo-random sample: [[3.3545092082438477, 3, 'elephant']]\n",
      "5'th pseudo-random sample: [[3.3545092082438477, 3, 'elephant']]\n",
      "6'th pseudo-random sample: [[3.3545092082438477, 3, 'elephant']]\n",
      "7'th pseudo-random sample: [[3.3545092082438477, 3, 'elephant']]\n",
      "8'th pseudo-random sample: [[3.3545092082438477, 3, 'elephant']]\n",
      "9'th pseudo-random sample: [[3.3545092082438477, 3, 'elephant']]\n",
      "10'th pseudo-random sample: [[3.3545092082438477, 3, 'elephant']]\n",
      "\n",
      "\n",
      "First Latin hypercube sampling:  [[9.1, 8, 'dog'], [5.5, 2, 'elephant'], [7.3, 4, 'cat'], [3.6999999999999997, 6, 'cat'], [1.9, 10, 'elephant']]\n",
      "Second Latin hypercube sampling: [[9.1, 8, 'dog'], [5.5, 2, 'elephant'], [7.3, 4, 'cat'], [3.6999999999999997, 6, 'cat'], [1.9, 10, 'elephant']]\n",
      "LHS sampling with different seed:  [[5.5, 6, 'elephant'], [9.1, 2, 'elephant'], [7.3, 10, 'dog'], [1.9, 8, 'cat'], [3.6999999999999997, 4, 'cat']]\n"
     ]
    }
   ],
   "source": [
    "space_definition = [[1., 10.], [1, 10], [\"cat\", \"dog\", \"elephant\"]]\n",
    "space = po.Space(space_definition)\n",
    "\n",
    "for i in range(10):\n",
    "    print(f\"{i+1}'th random sample: {space.rvs(n_samples=1)}\")\n",
    "\n",
    "print(\"\\n\")\n",
    "\n",
    "for i in range(10):\n",
    "    print(f\"{i+1}'th pseudo-random sample: {space.rvs(n_samples=1, random_state=2)}\")\n",
    "\n",
    "print(\"\\n\")\n",
    "\n",
    "print(f\"First Latin hypercube sampling:  {space.lhs(n=5)}\")\n",
    "print(f\"Second Latin hypercube sampling: {space.lhs(n=5)}\")\n",
    "print(f\"LHS sampling with different seed:  {space.lhs(n=5, seed=2)}\")"
   ]
  }
 ],
 "metadata": {
  "kernelspec": {
   "display_name": ".env",
   "language": "python",
   "name": "python3"
  },
  "language_info": {
   "codemirror_mode": {
    "name": "ipython",
    "version": 3
   },
   "file_extension": ".py",
   "mimetype": "text/x-python",
   "name": "python",
   "nbconvert_exporter": "python",
   "pygments_lexer": "ipython3",
   "version": "3.9.1"
  }
 },
 "nbformat": 4,
 "nbformat_minor": 2
}
