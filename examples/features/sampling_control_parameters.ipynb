{
 "cells": [
  {
   "cell_type": "markdown",
   "metadata": {},
   "source": [
    "# Random states\n",
    "\n",
    "Both random value sampling and Latin hypersquare sampling supports taking a\n",
    "random seed to allow for reproducible sampling. They support a variety of\n",
    "formats, or `None` for true randomness.\n",
    "\n",
    "Random value sampling is random by default, while Latin hypersquare sampling is\n",
    "pseudo-random. Note that randomising the Latin hypersquare sampling results in\n",
    "(mostly) different points being sampled, but the sampled values for each\n",
    "dimension are the same."
   ]
  },
  {
   "cell_type": "code",
   "execution_count": 1,
   "metadata": {},
   "outputs": [
    {
     "name": "stdout",
     "output_type": "stream",
     "text": [
      "1'th random sample: [[8.72948133192346, 2, 'cat']]\n",
      "2'th random sample: [[1.2335119132117232, 6, 'cat']]\n",
      "3'th random sample: [[5.483830665042728, 7, 'elephant']]\n",
      "4'th random sample: [[1.9792231872080968, 1, 'elephant']]\n",
      "5'th random sample: [[2.8888979742664684, 1, 'elephant']]\n",
      "6'th random sample: [[2.499852010227335, 2, 'cat']]\n",
      "7'th random sample: [[9.534418850021098, 2, 'cat']]\n",
      "8'th random sample: [[1.327372186825705, 7, 'cat']]\n",
      "9'th random sample: [[2.0859462815446204, 4, 'dog']]\n",
      "10'th random sample: [[5.366620363345512, 8, 'dog']]\n",
      "\n",
      "\n",
      "1'th pseudo-random sample: [[3.3545092082438477, 3, 'elephant']]\n",
      "2'th pseudo-random sample: [[3.3545092082438477, 3, 'elephant']]\n",
      "3'th pseudo-random sample: [[3.3545092082438477, 3, 'elephant']]\n",
      "4'th pseudo-random sample: [[3.3545092082438477, 3, 'elephant']]\n",
      "5'th pseudo-random sample: [[3.3545092082438477, 3, 'elephant']]\n",
      "6'th pseudo-random sample: [[3.3545092082438477, 3, 'elephant']]\n",
      "7'th pseudo-random sample: [[3.3545092082438477, 3, 'elephant']]\n",
      "8'th pseudo-random sample: [[3.3545092082438477, 3, 'elephant']]\n",
      "9'th pseudo-random sample: [[3.3545092082438477, 3, 'elephant']]\n",
      "10'th pseudo-random sample: [[3.3545092082438477, 3, 'elephant']]\n",
      "\n",
      "\n",
      "First Latin hypersquare sampling:  [[9.1, 8, 'dog'], [5.5, 2, 'elephant'], [7.3, 4, 'cat'], [3.6999999999999997, 6, 'cat'], [1.9, 10, 'elephant']]\n",
      "Second Latin hypersquare sampling: [[9.1, 8, 'dog'], [5.5, 2, 'elephant'], [7.3, 4, 'cat'], [3.6999999999999997, 6, 'cat'], [1.9, 10, 'elephant']]\n",
      "LHS sampling with different seed:  [[5.5, 6, 'elephant'], [9.1, 2, 'elephant'], [7.3, 10, 'dog'], [1.9, 8, 'cat'], [3.6999999999999997, 4, 'cat']]\n"
     ]
    }
   ],
   "source": [
    "import ProcessOptimizer as po\n",
    "\n",
    "space_definition = [[1., 10.], [1, 10], [\"cat\", \"dog\", \"elephant\"]]\n",
    "space = po.Space(space_definition)\n",
    "\n",
    "for i in range(10):\n",
    "    print(f\"{i+1}'th random sample: {space.rvs(n_samples=1)}\")\n",
    "\n",
    "print(\"\\n\")\n",
    "\n",
    "for i in range(10):\n",
    "    print(f\"{i+1}'th pseudo-random sample: {space.rvs(n_samples=1, random_state=2)}\")\n",
    "\n",
    "print(\"\\n\")\n",
    "\n",
    "print(f\"First Latin hypersquare sampling:  {space.lhs(n=5)}\")\n",
    "print(f\"Second Latin hypersquare sampling: {space.lhs(n=5)}\")\n",
    "print(f\"LHS sampling with different seed:  {space.lhs(n=5, seed=2)}\")"
   ]
  }
 ],
 "metadata": {
  "kernelspec": {
   "display_name": ".env",
   "language": "python",
   "name": "python3"
  },
  "language_info": {
   "codemirror_mode": {
    "name": "ipython",
    "version": 3
   },
   "file_extension": ".py",
   "mimetype": "text/x-python",
   "name": "python",
   "nbconvert_exporter": "python",
   "pygments_lexer": "ipython3",
   "version": "3.9.1"
  }
 },
 "nbformat": 4,
 "nbformat_minor": 2
}
